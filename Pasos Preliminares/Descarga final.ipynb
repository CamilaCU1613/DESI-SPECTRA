{
 "cells": [
  {
   "cell_type": "code",
   "execution_count": 1,
   "id": "55bcec96",
   "metadata": {},
   "outputs": [],
   "source": [
    "import requests\n",
    "from bs4 import BeautifulSoup\n",
    "import os\n",
    "from astropy.io import fits\n",
    "import pandas as pd\n",
    "import numpy as np\n",
    "import matplotlib.pyplot as plt\n",
    "from astropy.table import Table\n",
    "from tqdm import tqdm\n",
    "import time\n",
    "from astropy.utils.data import get_pkg_data_filename\n",
    "from astropy.convolution import convolve, Gaussian1DKernel"
   ]
  },
  {
   "cell_type": "code",
   "execution_count": null,
   "id": "0bab2970",
   "metadata": {},
   "outputs": [],
   "source": [
    "base_url = \"https://data.desi.lbl.gov/public/edr/spectro/redux/fuji/healpix/sv3/dark/\"\n",
    "\n",
    "# Obtengo las carpetas y archivos FITS desde la página HTML\n",
    "def get_folders_and_fits(url):\n",
    "    response = requests.get(url)\n",
    "    # Verifica si la respuesta falló y muestra un mensaje\n",
    "    if response.status_code != 200:\n",
    "        print(\"Verifica tu conexión a Internet para asegurarte de que esté funcionando correctamente.\")\n",
    "        return [], []\n",
    "    \n",
    "    soup = BeautifulSoup(response.text, 'html.parser')\n",
    "    \n",
    "    folders = []\n",
    "    fits_files = []\n",
    "\n",
    "    # Busco todos los enlaces en la página\n",
    "    for link in soup.find_all('a', href=True):\n",
    "        href = link['href']\n",
    "        text = link.text\n",
    "        if href.endswith('/') and not text.startswith('..') and not href.endswith('logs/'):\n",
    "            # Es una carpeta\n",
    "            folder_name = text.rstrip('/')\n",
    "            folders.append(folder_name)\n",
    "        elif text.startswith('redrock-sv3-dark-') or text.startswith('coadd-sv3-dark-'):\n",
    "            # Es un archivo FITS\n",
    "            fits_files.append(text)\n",
    "    \n",
    "    return folders, fits_files\n",
    "\n",
    "# Explorar los archivos de la ultima, tercera, capa. Aqui estan los .fits\n",
    "def explore_third_layer_folders(url):\n",
    "    _ , fits_files = get_folders_and_fits(url)\n",
    "    nstype=[]\n",
    "    # FITS coadd y redrock\n",
    "    for fits_file in tqdm(fits_files):\n",
    "        with open('urlspectra.txt', 'a') as archivo:\n",
    "            if fits_file.startswith('redrock-sv3-dark-'): \n",
    "                red_rock_fits_urls = url + fits_file  #aqui obtengo todos los urls que me llevan a todos los fits de redrock\n",
    "                archivo.write(red_rock_fits_urls+\"\\n\")\n",
    "            if fits_file.startswith('coadd-sv3-dark-'): \n",
    "                coadd_fits_urls = url + fits_file\n",
    "                archivo.write(coadd_fits_urls+\"\\n\")\n",
    "        print(\"copiado\")\n",
    "            \n",
    "\n",
    "    \n",
    "# Explorar las carpetas de la segunda capa 10016/ 10145/ etc/\n",
    "def explore_second_layer_folders(url):\n",
    "    folders, _ = get_folders_and_fits(url)\n",
    "    for folder in folders:\n",
    "        folder_url = url + folder + '/'\n",
    "        explore_third_layer_folders(folder_url)                \n",
    "                \n",
    "# Explora las carpetas de la primera capa: 100/ 101/ etc/\n",
    "def explore_first_layer_folders(url):\n",
    "    folders, _ = get_folders_and_fits(url)\n",
    "    for folder in folders:\n",
    "        folder_url = url + folder + '/'\n",
    "        explore_second_layer_folders(folder_url)\n",
    "        \n",
    "        \n",
    "# Comienzo la exploración desde la URL base en la primera capa\n",
    "explore_first_layer_folders(base_url)"
   ]
  },
  {
   "cell_type": "code",
   "execution_count": 3,
   "id": "d3a39261",
   "metadata": {},
   "outputs": [
    {
     "name": "stdout",
     "output_type": "stream",
     "text": [
      "Copiado\n"
     ]
    }
   ],
   "source": [
    "with open('urlspectra.txt', 'r') as archivo:\n",
    "    stype,STYPE=[],[]\n",
    "    z,Z=[],[]\n",
    "    target, TARGET=[],[]\n",
    "    Bflux, BFLUX=[],[]\n",
    "    Rflux,RFLUX=[],[]\n",
    "    Zflux,ZFLUX=[],[]\n",
    "\n",
    "    lineas = archivo.readlines()  # Lee todas las líneas del archivo y las almacena en una lista\n",
    "    for i in range(0,3, 2): #Este rango va de el primero al tercer fits es decir los primeros 20 fits con 10 readrock y 10\n",
    "        # Imprime dos líneas a la vez (par de líneas)\n",
    "        if i + 1 < len(lineas):\n",
    "            coadd=fits.open(lineas[i])\n",
    "            readrock=fits.open(lineas[i + 1])\n",
    "            read_readrock=Table.read(readrock, hdu=1)\n",
    "            read_coadd = Table.read(coadd, hdu=1) \n",
    "            targetID_coadd=read_coadd['TARGETID'].data #Target ID lista # Redshift lista\n",
    "            spectype=read_readrock['SPECTYPE'].data    # Tipo espectral lista\n",
    "            Z_r=read_readrock['Z'].data # \n",
    "            for j in range(len(targetID_coadd)): #elimina los targetID negativos\n",
    "                if targetID_coadd[j]>=0:\n",
    "                    stype.append(spectype[j])\n",
    "                    z.append(Z_r[j])\n",
    "                    target.append(targetID_coadd[j])\n",
    "                    Bflux.append(coadd[4].data[j])\n",
    "                    Rflux.append(coadd[9].data[j])\n",
    "                    Zflux.append(coadd[14].data[j])\n",
    "            #une los espectros de cada archivo fits\n",
    "            TARGET+=target\n",
    "            Z+=z\n",
    "            STYPE+=stype\n",
    "            BFLUX+= Bflux\n",
    "            RFLUX+= Rflux\n",
    "            ZFLUX+= Zflux\n",
    "            \n",
    "            \n",
    "    # Define los tipos de datos\n",
    "    dtype = [('SPECTYPE', 'S7'), ('Z', 'float'), ('TARGETID', 'float')]\n",
    "    # Crea un arreglo estructurado de NumPy\n",
    "    data = np.zeros(len(Z), dtype=dtype)\n",
    "    data['SPECTYPE'] = STYPE\n",
    "    data['Z'] = Z\n",
    "    data['TARGETID'] = TARGET\n",
    "    # Crea una tabla FITS usando fits.BinTableHDU\n",
    "    hdu = fits.BinTableHDU.from_columns(data)\n",
    "    # Crea los arreglos para \n",
    "    data_Bflux = np.array(BFLUX, dtype=np.float32)\n",
    "    data_Rflux = np.array(RFLUX, dtype=np.float32)\n",
    "    data_Zflux = np.array(ZFLUX, dtype=np.float32)\n",
    "    # Crea un objeto ImageHDU\n",
    "    hdub = fits.ImageHDU(data_Bflux)\n",
    "    hdur = fits.ImageHDU(data_Rflux)\n",
    "    hduz = fits.ImageHDU(data_Zflux)\n",
    "    # Establece el nombre del HDU como 'B_FLUX'\n",
    "    hdub.name = 'B_FLUX'\n",
    "    hdur.name = 'R_FLUX'\n",
    "    hduz.name = 'Z_FLUX'\n",
    "    #Agrega al fits.\n",
    "    nombre_archivo = 'DataDESI.fits'\n",
    "    hdulist = fits.open(nombre_archivo, mode='append')\n",
    "    hdulist.append(hdu)\n",
    "    hdulist.append(hdub)\n",
    "    hdulist.append(hdur)\n",
    "    hdulist.append(hduz)\n",
    "    print(\"Copiado\")\n",
    "    hdulist.close() \n"
   ]
  },
  {
   "cell_type": "code",
   "execution_count": 4,
   "id": "ae4d5936",
   "metadata": {},
   "outputs": [
    {
     "name": "stdout",
     "output_type": "stream",
     "text": [
      "Filename: DataDESI.fits\n",
      "No.    Name      Ver    Type      Cards   Dimensions   Format\n",
      "  0  PRIMARY       1 PrimaryHDU       4   ()      \n",
      "  1                1 BinTableHDU     14   71R x 3C   [7A, D, D]   \n",
      "  2  B_FLUX        1 ImageHDU         8   (2751, 71)   float32   \n",
      "  3  R_FLUX        1 ImageHDU         8   (2326, 71)   float32   \n",
      "  4  Z_FLUX        1 ImageHDU         8   (2881, 71)   float32   \n"
     ]
    }
   ],
   "source": [
    "from astropy.table import Table\n",
    "espc = fits.open('DataDESI.fits')\n",
    "espc.info()"
   ]
  },
  {
   "cell_type": "code",
   "execution_count": 5,
   "id": "633b87ee",
   "metadata": {},
   "outputs": [
    {
     "name": "stdout",
     "output_type": "stream",
     "text": [
      "SPECTYPE           Z                   TARGETID       \n",
      "-------- ---------------------- ----------------------\n",
      "  GALAXY     1.0562666391262403 3.9633166985596424e+16\n",
      "  GALAXY     0.5144821155151134 3.9633166985595224e+16\n",
      "     QSO     1.5490694958672993  3.963316698559575e+16\n",
      "     QSO     1.1257626518264834  3.963316698559469e+16\n",
      "  GALAXY -0.0011324745399137303 3.9633166985595016e+16\n",
      "  GALAXY      1.412257154321883 3.9633166985595704e+16\n",
      "     QSO    0.15117289243645263  3.963316698559526e+16\n",
      "  GALAXY     0.5890760823970248  3.963316698559476e+16\n",
      "  GALAXY     0.5878826780448072 3.9633166985595464e+16\n",
      "  GALAXY     1.3146877092416778  3.963316698559501e+16\n",
      "     ...                    ...                    ...\n",
      "     QSO     1.0408366243937803  3.963316698559511e+16\n",
      "  GALAXY     1.3459637344366364  3.963316698559478e+16\n",
      "  GALAXY     1.4163996443501743  3.963316698559559e+16\n",
      "  GALAXY     1.1838060439667448  3.963316698559553e+16\n",
      "  GALAXY    0.36609178441399526  3.963316698559486e+16\n",
      "  GALAXY     0.5857910072141383  6.160939192890175e+17\n",
      "  GALAXY     0.8705436716739061  3.963330125784815e+16\n",
      "  GALAXY     0.7255850622108418  3.963330125784852e+16\n",
      "  GALAXY     0.8034443965502295  3.963330125784966e+16\n",
      "  GALAXY     1.6294159166663222  3.963330125784895e+16\n",
      "  GALAXY     0.4144301748249704  3.963330125784825e+16\n",
      "Length = 71 rows\n"
     ]
    }
   ],
   "source": [
    "print(Table.read(espc, hdu=1))"
   ]
  },
  {
   "cell_type": "code",
   "execution_count": null,
   "id": "f39fdc9c",
   "metadata": {},
   "outputs": [],
   "source": [
    "print(Table.read(espc, hdu=1)[\"Spectype\"].data)"
   ]
  },
  {
   "cell_type": "code",
   "execution_count": null,
   "id": "0b2affb2",
   "metadata": {},
   "outputs": [],
   "source": [
    "print(len(espc[2].data))\n",
    "print(len(espc[4].data[0]))"
   ]
  }
 ],
 "metadata": {
  "kernelspec": {
   "display_name": "Python 3 (ipykernel)",
   "language": "python",
   "name": "python3"
  },
  "language_info": {
   "codemirror_mode": {
    "name": "ipython",
    "version": 3
   },
   "file_extension": ".py",
   "mimetype": "text/x-python",
   "name": "python",
   "nbconvert_exporter": "python",
   "pygments_lexer": "ipython3",
   "version": "3.10.9"
  }
 },
 "nbformat": 4,
 "nbformat_minor": 5
}
