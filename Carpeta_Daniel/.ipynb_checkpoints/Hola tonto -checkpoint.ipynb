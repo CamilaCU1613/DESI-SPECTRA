{
 "cells": [
  {
   "cell_type": "code",
   "execution_count": 1,
   "id": "a1c48314",
   "metadata": {},
   "outputs": [
    {
     "name": "stdout",
     "output_type": "stream",
     "text": [
      "TE QUIERO\n"
     ]
    }
   ],
   "source": [
    "print (\"TE QUIERO\")"
   ]
  },
  {
   "cell_type": "code",
   "execution_count": 1,
   "id": "114af8c7",
   "metadata": {},
   "outputs": [
    {
     "name": "stdout",
     "output_type": "stream",
     "text": [
      "yo tambien!!!\n"
     ]
    }
   ],
   "source": [
    "print(\"yo tambien!!!\")"
   ]
  },
  {
   "cell_type": "code",
   "execution_count": null,
   "id": "83386c64",
   "metadata": {},
   "outputs": [],
   "source": []
  }
 ],
 "metadata": {
  "kernelspec": {
   "display_name": "Python 3 (ipykernel)",
   "language": "python",
   "name": "python3"
  },
  "language_info": {
   "codemirror_mode": {
    "name": "ipython",
    "version": 3
   },
   "file_extension": ".py",
   "mimetype": "text/x-python",
   "name": "python",
   "nbconvert_exporter": "python",
   "pygments_lexer": "ipython3",
   "version": "3.11.4"
  }
 },
 "nbformat": 4,
 "nbformat_minor": 5
}
