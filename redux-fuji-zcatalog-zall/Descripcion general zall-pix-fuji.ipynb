{
 "cells": [
  {
   "cell_type": "code",
   "execution_count": 1,
   "id": "81248a22",
   "metadata": {},
   "outputs": [],
   "source": [
    "from astropy.io import fits\n",
    "from glob import glob\n",
    "import pandas as pd\n",
    "import numpy as np\n",
    "import matplotlib.pyplot as plt\n",
    "from astropy.table import Table\n",
    "from astropy.utils.data import get_pkg_data_filename\n",
    "from astropy.convolution import convolve, Gaussian1DKernel"
   ]
  },
  {
   "cell_type": "markdown",
   "id": "702eb6fc",
   "metadata": {},
   "source": [
    "# zall-pix-fuji.fits\n",
    "Index of /public/edr/spectro/redux/fuji/zcatalog/"
   ]
  },
  {
   "cell_type": "markdown",
   "id": "107beb36",
   "metadata": {},
   "source": [
    "Este catalogo contiene la clasificación de tipos espectrales, surveys, Healpix, Chi2, RA, DEC"
   ]
  },
  {
   "cell_type": "code",
   "execution_count": 2,
   "id": "cc3f422e",
   "metadata": {},
   "outputs": [],
   "source": [
    "archivo_fits = fits.open('zall-pix-fuji.fits') #open file"
   ]
  },
  {
   "cell_type": "code",
   "execution_count": 3,
   "id": "071a2362",
   "metadata": {},
   "outputs": [
    {
     "name": "stdout",
     "output_type": "stream",
     "text": [
      "Filename: zall-pix-fuji.fits\n",
      "No.    Name      Ver    Type      Cards   Dimensions   Format\n",
      "  0  PRIMARY       1 PrimaryHDU       4   ()      \n",
      "  1  ZCATALOG      1 BinTableHDU    333   2847435R x 130C   [K, 7A, 6A, J, J, D, D, K, D, 10D, K, 6A, 20A, K, D, J, D, D, E, E, E, K, B, 3A, D, J, I, 8A, J, J, 4A, E, E, E, E, E, E, E, E, E, E, E, E, E, E, E, E, E, I, E, E, E, E, K, 2A, E, E, E, E, 1A, K, K, K, K, K, K, K, K, K, K, K, K, K, K, K, K, K, K, K, D, D, I, E, I, I, E, E, E, E, D, E, D, E, E, E, E, E, E, E, E, E, E, E, E, E, E, E, E, E, E, E, E, E, E, E, E, E, E, E, E, E, E, E, E, E, E, J, L, K, L]   \n"
     ]
    }
   ],
   "source": [
    "archivo_fits.info() #resume el contenido de la tabla"
   ]
  },
  {
   "cell_type": "code",
   "execution_count": 23,
   "id": "4782f625",
   "metadata": {},
   "outputs": [
    {
     "data": {
      "text/plain": [
       "XTENSION= 'BINTABLE'           / binary table extension                         \n",
       "BITPIX  =                    8 / array data type                                \n",
       "NAXIS   =                    2 / number of array dimensions                     \n",
       "NAXIS1  =                  746 / length of dimension 1                          \n",
       "NAXIS2  =              2847435 / length of dimension 2                          \n",
       "PCOUNT  =                    0 / number of group parameters                     \n",
       "GCOUNT  =                    1 / number of groups                               \n",
       "TFIELDS =                  130 / number of table fields                         \n",
       "TTYPE1  = 'TARGETID'                                                            \n",
       "TFORM1  = 'K       '                                                            \n",
       "TTYPE2  = 'SURVEY  '                                                            \n",
       "TFORM2  = '7A      '                                                            \n",
       "TTYPE3  = 'PROGRAM '                                                            \n",
       "TFORM3  = '6A      '                                                            \n",
       "TTYPE4  = 'HEALPIX '                                                            \n",
       "TFORM4  = 'J       '                                                            \n",
       "TTYPE5  = 'SPGRPVAL'                                                            \n",
       "TFORM5  = 'J       '                                                            \n",
       "TTYPE6  = 'Z       '                                                            \n",
       "TFORM6  = 'D       '                                                            \n",
       "TTYPE7  = 'ZERR    '                                                            \n",
       "TFORM7  = 'D       '                                                            \n",
       "TTYPE8  = 'ZWARN   '                                                            \n",
       "TFORM8  = 'K       '                                                            \n",
       "TTYPE9  = 'CHI2    '                                                            \n",
       "TFORM9  = 'D       '                                                            \n",
       "TTYPE10 = 'COEFF   '                                                            \n",
       "TFORM10 = '10D     '                                                            \n",
       "TDIM10  = '(10)    '                                                            \n",
       "TTYPE11 = 'NPIXELS '                                                            \n",
       "TFORM11 = 'K       '                                                            \n",
       "TTYPE12 = 'SPECTYPE'                                                            \n",
       "TFORM12 = '6A      '                                                            \n",
       "TTYPE13 = 'SUBTYPE '                                                            \n",
       "TFORM13 = '20A     '                                                            \n",
       "TTYPE14 = 'NCOEFF  '                                                            \n",
       "TFORM14 = 'K       '                                                            \n",
       "TTYPE15 = 'DELTACHI2'                                                           \n",
       "TFORM15 = 'D       '                                                            \n",
       "TTYPE16 = 'COADD_FIBERSTATUS'                                                   \n",
       "TFORM16 = 'J       '                                                            \n",
       "TTYPE17 = 'TARGET_RA'                                                           \n",
       "TFORM17 = 'D       '                                                            \n",
       "TTYPE18 = 'TARGET_DEC'                                                          \n",
       "TFORM18 = 'D       '                                                            \n",
       "TTYPE19 = 'PMRA    '                                                            \n",
       "TFORM19 = 'E       '                                                            \n",
       "TTYPE20 = 'PMDEC   '                                                            \n",
       "TFORM20 = 'E       '                                                            \n",
       "TTYPE21 = 'REF_EPOCH'                                                           \n",
       "TFORM21 = 'E       '                                                            \n",
       "TTYPE22 = 'FA_TARGET'                                                           \n",
       "TFORM22 = 'K       '                                                            \n",
       "TTYPE23 = 'FA_TYPE '                                                            \n",
       "TFORM23 = 'B       '                                                            \n",
       "TTYPE24 = 'OBJTYPE '                                                            \n",
       "TFORM24 = '3A      '                                                            \n",
       "TTYPE25 = 'SUBPRIORITY'                                                         \n",
       "TFORM25 = 'D       '                                                            \n",
       "TTYPE26 = 'OBSCONDITIONS'                                                       \n",
       "TFORM26 = 'J       '                                                            \n",
       "TTYPE27 = 'RELEASE '                                                            \n",
       "TFORM27 = 'I       '                                                            \n",
       "TTYPE28 = 'BRICKNAME'                                                           \n",
       "TFORM28 = '8A      '                                                            \n",
       "TTYPE29 = 'BRICKID '                                                            \n",
       "TFORM29 = 'J       '                                                            \n",
       "TTYPE30 = 'BRICK_OBJID'                                                         \n",
       "TFORM30 = 'J       '                                                            \n",
       "TTYPE31 = 'MORPHTYPE'                                                           \n",
       "TFORM31 = '4A      '                                                            \n",
       "TTYPE32 = 'EBV     '                                                            \n",
       "TFORM32 = 'E       '                                                            \n",
       "TTYPE33 = 'FLUX_G  '                                                            \n",
       "TFORM33 = 'E       '                                                            \n",
       "TTYPE34 = 'FLUX_R  '                                                            \n",
       "TFORM34 = 'E       '                                                            \n",
       "TTYPE35 = 'FLUX_Z  '                                                            \n",
       "TFORM35 = 'E       '                                                            \n",
       "TTYPE36 = 'FLUX_W1 '                                                            \n",
       "TFORM36 = 'E       '                                                            \n",
       "TTYPE37 = 'FLUX_W2 '                                                            \n",
       "TFORM37 = 'E       '                                                            \n",
       "TTYPE38 = 'FLUX_IVAR_G'                                                         \n",
       "TFORM38 = 'E       '                                                            \n",
       "TTYPE39 = 'FLUX_IVAR_R'                                                         \n",
       "TFORM39 = 'E       '                                                            \n",
       "TTYPE40 = 'FLUX_IVAR_Z'                                                         \n",
       "TFORM40 = 'E       '                                                            \n",
       "TTYPE41 = 'FLUX_IVAR_W1'                                                        \n",
       "TFORM41 = 'E       '                                                            \n",
       "TTYPE42 = 'FLUX_IVAR_W2'                                                        \n",
       "TFORM42 = 'E       '                                                            \n",
       "TTYPE43 = 'FIBERFLUX_G'                                                         \n",
       "TFORM43 = 'E       '                                                            \n",
       "TTYPE44 = 'FIBERFLUX_R'                                                         \n",
       "TFORM44 = 'E       '                                                            \n",
       "TTYPE45 = 'FIBERFLUX_Z'                                                         \n",
       "TFORM45 = 'E       '                                                            \n",
       "TTYPE46 = 'FIBERTOTFLUX_G'                                                      \n",
       "TFORM46 = 'E       '                                                            \n",
       "TTYPE47 = 'FIBERTOTFLUX_R'                                                      \n",
       "TFORM47 = 'E       '                                                            \n",
       "TTYPE48 = 'FIBERTOTFLUX_Z'                                                      \n",
       "TFORM48 = 'E       '                                                            \n",
       "TTYPE49 = 'MASKBITS'                                                            \n",
       "TFORM49 = 'I       '                                                            \n",
       "TTYPE50 = 'SERSIC  '                                                            \n",
       "TFORM50 = 'E       '                                                            \n",
       "TTYPE51 = 'SHAPE_R '                                                            \n",
       "TFORM51 = 'E       '                                                            \n",
       "TTYPE52 = 'SHAPE_E1'                                                            \n",
       "TFORM52 = 'E       '                                                            \n",
       "TTYPE53 = 'SHAPE_E2'                                                            \n",
       "TFORM53 = 'E       '                                                            \n",
       "TTYPE54 = 'REF_ID  '                                                            \n",
       "TFORM54 = 'K       '                                                            \n",
       "TTYPE55 = 'REF_CAT '                                                            \n",
       "TFORM55 = '2A      '                                                            \n",
       "TTYPE56 = 'GAIA_PHOT_G_MEAN_MAG'                                                \n",
       "TFORM56 = 'E       '                                                            \n",
       "TTYPE57 = 'GAIA_PHOT_BP_MEAN_MAG'                                               \n",
       "TFORM57 = 'E       '                                                            \n",
       "TTYPE58 = 'GAIA_PHOT_RP_MEAN_MAG'                                               \n",
       "TFORM58 = 'E       '                                                            \n",
       "TTYPE59 = 'PARALLAX'                                                            \n",
       "TFORM59 = 'E       '                                                            \n",
       "TTYPE60 = 'PHOTSYS '                                                            \n",
       "TFORM60 = '1A      '                                                            \n",
       "TTYPE61 = 'PRIORITY_INIT'                                                       \n",
       "TFORM61 = 'K       '                                                            \n",
       "TTYPE62 = 'NUMOBS_INIT'                                                         \n",
       "TFORM62 = 'K       '                                                            \n",
       "TTYPE63 = 'CMX_TARGET'                                                          \n",
       "TFORM63 = 'K       '                                                            \n",
       "TTYPE64 = 'DESI_TARGET'                                                         \n",
       "TFORM64 = 'K       '                                                            \n",
       "TTYPE65 = 'BGS_TARGET'                                                          \n",
       "TFORM65 = 'K       '                                                            \n",
       "TTYPE66 = 'MWS_TARGET'                                                          \n",
       "TFORM66 = 'K       '                                                            \n",
       "TTYPE67 = 'SCND_TARGET'                                                         \n",
       "TFORM67 = 'K       '                                                            \n",
       "TTYPE68 = 'SV1_DESI_TARGET'                                                     \n",
       "TFORM68 = 'K       '                                                            \n",
       "TTYPE69 = 'SV1_BGS_TARGET'                                                      \n",
       "TFORM69 = 'K       '                                                            \n",
       "TTYPE70 = 'SV1_MWS_TARGET'                                                      \n",
       "TFORM70 = 'K       '                                                            \n",
       "TTYPE71 = 'SV1_SCND_TARGET'                                                     \n",
       "TFORM71 = 'K       '                                                            \n",
       "TTYPE72 = 'SV2_DESI_TARGET'                                                     \n",
       "TFORM72 = 'K       '                                                            \n",
       "TTYPE73 = 'SV2_BGS_TARGET'                                                      \n",
       "TFORM73 = 'K       '                                                            \n",
       "TTYPE74 = 'SV2_MWS_TARGET'                                                      \n",
       "TFORM74 = 'K       '                                                            \n",
       "TTYPE75 = 'SV2_SCND_TARGET'                                                     \n",
       "TFORM75 = 'K       '                                                            \n",
       "TTYPE76 = 'SV3_DESI_TARGET'                                                     \n",
       "TFORM76 = 'K       '                                                            \n",
       "TTYPE77 = 'SV3_BGS_TARGET'                                                      \n",
       "TFORM77 = 'K       '                                                            \n",
       "TTYPE78 = 'SV3_MWS_TARGET'                                                      \n",
       "TFORM78 = 'K       '                                                            \n",
       "TTYPE79 = 'SV3_SCND_TARGET'                                                     \n",
       "TFORM79 = 'K       '                                                            \n",
       "TTYPE80 = 'PLATE_RA'                                                            \n",
       "TFORM80 = 'D       '                                                            \n",
       "TTYPE81 = 'PLATE_DEC'                                                           \n",
       "TFORM81 = 'D       '                                                            \n",
       "TTYPE82 = 'COADD_NUMEXP'                                                        \n",
       "TFORM82 = 'I       '                                                            \n",
       "TTYPE83 = 'COADD_EXPTIME'                                                       \n",
       "TFORM83 = 'E       '                                                            \n",
       "TTYPE84 = 'COADD_NUMNIGHT'                                                      \n",
       "TFORM84 = 'I       '                                                            \n",
       "TTYPE85 = 'COADD_NUMTILE'                                                       \n",
       "TFORM85 = 'I       '                                                            \n",
       "TTYPE86 = 'MEAN_DELTA_X'                                                        \n",
       "TFORM86 = 'E       '                                                            \n",
       "TTYPE87 = 'RMS_DELTA_X'                                                         \n",
       "TFORM87 = 'E       '                                                            \n",
       "TTYPE88 = 'MEAN_DELTA_Y'                                                        \n",
       "TFORM88 = 'E       '                                                            \n",
       "TTYPE89 = 'RMS_DELTA_Y'                                                         \n",
       "TFORM89 = 'E       '                                                            \n",
       "TTYPE90 = 'MEAN_FIBER_RA'                                                       \n",
       "TFORM90 = 'D       '                                                            \n",
       "TTYPE91 = 'STD_FIBER_RA'                                                        \n",
       "TFORM91 = 'E       '                                                            \n",
       "TTYPE92 = 'MEAN_FIBER_DEC'                                                      \n",
       "TFORM92 = 'D       '                                                            \n",
       "TTYPE93 = 'STD_FIBER_DEC'                                                       \n",
       "TFORM93 = 'E       '                                                            \n",
       "TTYPE94 = 'MEAN_PSF_TO_FIBER_SPECFLUX'                                          \n",
       "TFORM94 = 'E       '                                                            \n",
       "TTYPE95 = 'TSNR2_GPBDARK_B'                                                     \n",
       "TFORM95 = 'E       '                                                            \n",
       "TTYPE96 = 'TSNR2_ELG_B'                                                         \n",
       "TFORM96 = 'E       '                                                            \n",
       "TTYPE97 = 'TSNR2_GPBBRIGHT_B'                                                   \n",
       "TFORM97 = 'E       '                                                            \n",
       "TTYPE98 = 'TSNR2_LYA_B'                                                         \n",
       "TFORM98 = 'E       '                                                            \n",
       "TTYPE99 = 'TSNR2_BGS_B'                                                         \n",
       "TFORM99 = 'E       '                                                            \n",
       "TTYPE100= 'TSNR2_GPBBACKUP_B'                                                   \n",
       "TFORM100= 'E       '                                                            \n",
       "TTYPE101= 'TSNR2_QSO_B'                                                         \n",
       "TFORM101= 'E       '                                                            \n",
       "TTYPE102= 'TSNR2_LRG_B'                                                         \n",
       "TFORM102= 'E       '                                                            \n",
       "TTYPE103= 'TSNR2_GPBDARK_R'                                                     \n",
       "TFORM103= 'E       '                                                            \n",
       "TTYPE104= 'TSNR2_ELG_R'                                                         \n",
       "TFORM104= 'E       '                                                            \n",
       "TTYPE105= 'TSNR2_GPBBRIGHT_R'                                                   \n",
       "TFORM105= 'E       '                                                            \n",
       "TTYPE106= 'TSNR2_LYA_R'                                                         \n",
       "TFORM106= 'E       '                                                            \n",
       "TTYPE107= 'TSNR2_BGS_R'                                                         \n",
       "TFORM107= 'E       '                                                            \n",
       "TTYPE108= 'TSNR2_GPBBACKUP_R'                                                   \n",
       "TFORM108= 'E       '                                                            \n",
       "TTYPE109= 'TSNR2_QSO_R'                                                         \n",
       "TFORM109= 'E       '                                                            \n",
       "TTYPE110= 'TSNR2_LRG_R'                                                         \n",
       "TFORM110= 'E       '                                                            \n",
       "TTYPE111= 'TSNR2_GPBDARK_Z'                                                     \n",
       "TFORM111= 'E       '                                                            \n",
       "TTYPE112= 'TSNR2_ELG_Z'                                                         \n",
       "TFORM112= 'E       '                                                            \n",
       "TTYPE113= 'TSNR2_GPBBRIGHT_Z'                                                   \n",
       "TFORM113= 'E       '                                                            \n",
       "TTYPE114= 'TSNR2_LYA_Z'                                                         \n",
       "TFORM114= 'E       '                                                            \n",
       "TTYPE115= 'TSNR2_BGS_Z'                                                         \n",
       "TFORM115= 'E       '                                                            \n",
       "TTYPE116= 'TSNR2_GPBBACKUP_Z'                                                   \n",
       "TFORM116= 'E       '                                                            \n",
       "TTYPE117= 'TSNR2_QSO_Z'                                                         \n",
       "TFORM117= 'E       '                                                            \n",
       "TTYPE118= 'TSNR2_LRG_Z'                                                         \n",
       "TFORM118= 'E       '                                                            \n",
       "TTYPE119= 'TSNR2_GPBDARK'                                                       \n",
       "TFORM119= 'E       '                                                            \n",
       "TTYPE120= 'TSNR2_ELG'                                                           \n",
       "TFORM120= 'E       '                                                            \n",
       "TTYPE121= 'TSNR2_GPBBRIGHT'                                                     \n",
       "TFORM121= 'E       '                                                            \n",
       "TTYPE122= 'TSNR2_LYA'                                                           \n",
       "TFORM122= 'E       '                                                            \n",
       "TTYPE123= 'TSNR2_BGS'                                                           \n",
       "TFORM123= 'E       '                                                            \n",
       "TTYPE124= 'TSNR2_GPBBACKUP'                                                     \n",
       "TFORM124= 'E       '                                                            \n",
       "TTYPE125= 'TSNR2_QSO'                                                           \n",
       "TFORM125= 'E       '                                                            \n",
       "TTYPE126= 'TSNR2_LRG'                                                           \n",
       "TFORM126= 'E       '                                                            \n",
       "TTYPE127= 'SV_NSPEC'                                                            \n",
       "TFORM127= 'J       '                                                            \n",
       "TTYPE128= 'SV_PRIMARY'                                                          \n",
       "TFORM128= 'L       '                                                            \n",
       "TTYPE129= 'ZCAT_NSPEC'                                                          \n",
       "TFORM129= 'K       '                                                            \n",
       "TTYPE130= 'ZCAT_PRIMARY'                                                        \n",
       "TFORM130= 'L       '                                                            \n",
       "EXTNAME = 'ZCATALOG'                                                            \n",
       "LONGSTRN= 'OGIP 1.0'                                                            \n",
       "RRVER   = '0.15.3  '                                                            \n",
       "TEMNAM00= 'GALAXY  '                                                            \n",
       "TEMVER00= '2.6     '                                                            \n",
       "TEMNAM01= 'QSO     '                                                            \n",
       "TEMVER01= '0.1     '                                                            \n",
       "TEMNAM02= 'STAR:::A'                                                            \n",
       "TEMVER02= '0.1     '                                                            \n",
       "TEMNAM03= 'STAR:::B'                                                            \n",
       "TEMVER03= '0.1     '                                                            \n",
       "TEMNAM04= 'STAR:::CV'                                                           \n",
       "TEMVER04= '0.1     '                                                            \n",
       "TEMNAM05= 'STAR:::F'                                                            \n",
       "TEMVER05= '0.1     '                                                            \n",
       "TEMNAM06= 'STAR:::G'                                                            \n",
       "TEMVER06= '0.1     '                                                            \n",
       "TEMNAM07= 'STAR:::K'                                                            \n",
       "TEMVER07= '0.1     '                                                            \n",
       "TEMNAM08= 'STAR:::M'                                                            \n",
       "TEMVER08= '0.1     '                                                            \n",
       "TEMNAM09= 'STAR:::WD'                                                           \n",
       "TEMVER09= '0.1     '                                                            \n",
       "DEPNAM00= 'python  '                                                            \n",
       "DEPVER00= '3.9.7   '                                                            \n",
       "DEPNAM01= 'numpy   '                                                            \n",
       "DEPVER01= '1.21.4  '                                                            \n",
       "DEPNAM02= 'scipy   '                                                            \n",
       "DEPVER02= '1.7.3   '                                                            \n",
       "DEPNAM03= 'astropy '                                                            \n",
       "DEPVER03= '5.0     '                                                            \n",
       "DEPNAM04= 'yaml    '                                                            \n",
       "DEPVER04= '6.0     '                                                            \n",
       "DEPNAM05= 'h5py    '                                                            \n",
       "DEPVER05= '3.6.0   '                                                            \n",
       "DEPNAM06= 'mpi4py  '                                                            \n",
       "DEPVER06= '3.1.3   '                                                            \n",
       "DEPNAM07= 'desiutil'                                                            \n",
       "DEPVER07= '3.2.5   '                                                            \n",
       "DEPNAM08= 'desispec'                                                            \n",
       "DEPVER08= '0.51.8  '                                                            \n",
       "DEPNAM09= 'redrock '                                                            \n",
       "DEPVER09= '0.15.3  '                                                            \n",
       "DEPNAM10= 'DESI_ROOT'                                                           \n",
       "DEPVER10= '/global/cfs/cdirs/desi'                                              \n",
       "DEPNAM11= 'DESI_SPECTRO_DATA'                                                   \n",
       "DEPVER11= '/global/cfs/cdirs/desi/spectro/data'                                 \n",
       "DEPNAM12= 'DESI_SPECTRO_REDUX'                                                  \n",
       "DEPVER12= '/global/cfs/cdirs/desi/spectro/redux'                                \n",
       "DEPNAM13= 'SPECPROD'                                                            \n",
       "DEPVER13= 'fuji    '                                                            \n",
       "DEPNAM14= 'DESI_SPECTRO_CALIB'                                                  \n",
       "DEPVER14= '/global/cfs/cdirs/desi/spectro/desi_spectro_calib/0.3.1'             \n",
       "DEPNAM15= 'DESI_BASIS_TEMPLATES'                                                \n",
       "DEPVER15= '/global/cfs/cdirs/desi/spectro/templates/basis_templates/v3.2'       \n",
       "DEPNAM16= 'DESI_TARGET'                                                         \n",
       "DEPVER16= '/global/cfs/cdirs/desi/target'                                       \n",
       "DEPNAM17= 'DESIMODEL'                                                           \n",
       "DEPVER17= '/global/common/software/desi/cori/desiconda/20211217-2.0.0/code/des&'\n",
       "CONTINUE  'imodel/0.17.0'                                                       \n",
       "DEPNAM18= 'RR_TEMPLATE_DIR'                                                     \n",
       "DEPVER18= '/global/common/software/desi/cori/desiconda/20211217-2.0.0/code/red&'\n",
       "CONTINUE  'rock-templates/0.7.2'                                                \n",
       "SPGRP   = 'healpix '                                                            \n",
       "HPXNSIDE=                   64                                                  \n",
       "HPXNEST = 'True    '                                                            "
      ]
     },
     "execution_count": 23,
     "metadata": {},
     "output_type": "execute_result"
    }
   ],
   "source": [
    "archivo_fits[1].header"
   ]
  },
  {
   "cell_type": "code",
   "execution_count": 22,
   "id": "16443ccf",
   "metadata": {},
   "outputs": [
    {
     "data": {
      "text/html": [
       "<div><i>Table length=2847435</i>\n",
       "<table id=\"table2112080816912\" class=\"table-striped table-bordered table-condensed\">\n",
       "<thead><tr><th>TARGETID</th><th>SURVEY</th><th>PROGRAM</th><th>HEALPIX</th><th>SPGRPVAL</th><th>Z</th><th>ZERR</th><th>ZWARN</th><th>CHI2</th><th>COEFF</th><th>NPIXELS</th><th>SPECTYPE</th><th>SUBTYPE</th><th>NCOEFF</th><th>DELTACHI2</th><th>COADD_FIBERSTATUS</th><th>TARGET_RA</th><th>TARGET_DEC</th><th>PMRA</th><th>PMDEC</th><th>REF_EPOCH</th><th>FA_TARGET</th><th>FA_TYPE</th><th>OBJTYPE</th><th>SUBPRIORITY</th><th>OBSCONDITIONS</th><th>RELEASE</th><th>BRICKNAME</th><th>BRICKID</th><th>BRICK_OBJID</th><th>MORPHTYPE</th><th>EBV</th><th>FLUX_G</th><th>FLUX_R</th><th>FLUX_Z</th><th>FLUX_W1</th><th>FLUX_W2</th><th>FLUX_IVAR_G</th><th>FLUX_IVAR_R</th><th>FLUX_IVAR_Z</th><th>FLUX_IVAR_W1</th><th>FLUX_IVAR_W2</th><th>FIBERFLUX_G</th><th>FIBERFLUX_R</th><th>FIBERFLUX_Z</th><th>FIBERTOTFLUX_G</th><th>FIBERTOTFLUX_R</th><th>FIBERTOTFLUX_Z</th><th>MASKBITS</th><th>SERSIC</th><th>SHAPE_R</th><th>SHAPE_E1</th><th>SHAPE_E2</th><th>REF_ID</th><th>REF_CAT</th><th>GAIA_PHOT_G_MEAN_MAG</th><th>GAIA_PHOT_BP_MEAN_MAG</th><th>GAIA_PHOT_RP_MEAN_MAG</th><th>PARALLAX</th><th>PHOTSYS</th><th>PRIORITY_INIT</th><th>NUMOBS_INIT</th><th>CMX_TARGET</th><th>DESI_TARGET</th><th>BGS_TARGET</th><th>MWS_TARGET</th><th>SCND_TARGET</th><th>SV1_DESI_TARGET</th><th>SV1_BGS_TARGET</th><th>SV1_MWS_TARGET</th><th>SV1_SCND_TARGET</th><th>SV2_DESI_TARGET</th><th>SV2_BGS_TARGET</th><th>SV2_MWS_TARGET</th><th>SV2_SCND_TARGET</th><th>SV3_DESI_TARGET</th><th>SV3_BGS_TARGET</th><th>SV3_MWS_TARGET</th><th>SV3_SCND_TARGET</th><th>PLATE_RA</th><th>PLATE_DEC</th><th>COADD_NUMEXP</th><th>COADD_EXPTIME</th><th>COADD_NUMNIGHT</th><th>COADD_NUMTILE</th><th>MEAN_DELTA_X</th><th>RMS_DELTA_X</th><th>MEAN_DELTA_Y</th><th>RMS_DELTA_Y</th><th>MEAN_FIBER_RA</th><th>STD_FIBER_RA</th><th>MEAN_FIBER_DEC</th><th>STD_FIBER_DEC</th><th>MEAN_PSF_TO_FIBER_SPECFLUX</th><th>TSNR2_GPBDARK_B</th><th>TSNR2_ELG_B</th><th>TSNR2_GPBBRIGHT_B</th><th>TSNR2_LYA_B</th><th>TSNR2_BGS_B</th><th>TSNR2_GPBBACKUP_B</th><th>TSNR2_QSO_B</th><th>TSNR2_LRG_B</th><th>TSNR2_GPBDARK_R</th><th>TSNR2_ELG_R</th><th>TSNR2_GPBBRIGHT_R</th><th>TSNR2_LYA_R</th><th>TSNR2_BGS_R</th><th>TSNR2_GPBBACKUP_R</th><th>TSNR2_QSO_R</th><th>TSNR2_LRG_R</th><th>TSNR2_GPBDARK_Z</th><th>TSNR2_ELG_Z</th><th>TSNR2_GPBBRIGHT_Z</th><th>TSNR2_LYA_Z</th><th>TSNR2_BGS_Z</th><th>TSNR2_GPBBACKUP_Z</th><th>TSNR2_QSO_Z</th><th>TSNR2_LRG_Z</th><th>TSNR2_GPBDARK</th><th>TSNR2_ELG</th><th>TSNR2_GPBBRIGHT</th><th>TSNR2_LYA</th><th>TSNR2_BGS</th><th>TSNR2_GPBBACKUP</th><th>TSNR2_QSO</th><th>TSNR2_LRG</th><th>SV_NSPEC</th><th>SV_PRIMARY</th><th>ZCAT_NSPEC</th><th>ZCAT_PRIMARY</th></tr></thead>\n",
       "<thead><tr><th>int64</th><th>str7</th><th>str6</th><th>int32</th><th>int32</th><th>float64</th><th>float64</th><th>int64</th><th>float64</th><th>float64[10]</th><th>int64</th><th>str6</th><th>str20</th><th>int64</th><th>float64</th><th>int32</th><th>float64</th><th>float64</th><th>float32</th><th>float32</th><th>float32</th><th>int64</th><th>uint8</th><th>str3</th><th>float64</th><th>int32</th><th>int16</th><th>str8</th><th>int32</th><th>int32</th><th>str4</th><th>float32</th><th>float32</th><th>float32</th><th>float32</th><th>float32</th><th>float32</th><th>float32</th><th>float32</th><th>float32</th><th>float32</th><th>float32</th><th>float32</th><th>float32</th><th>float32</th><th>float32</th><th>float32</th><th>float32</th><th>int16</th><th>float32</th><th>float32</th><th>float32</th><th>float32</th><th>int64</th><th>str2</th><th>float32</th><th>float32</th><th>float32</th><th>float32</th><th>str1</th><th>int64</th><th>int64</th><th>int64</th><th>int64</th><th>int64</th><th>int64</th><th>int64</th><th>int64</th><th>int64</th><th>int64</th><th>int64</th><th>int64</th><th>int64</th><th>int64</th><th>int64</th><th>int64</th><th>int64</th><th>int64</th><th>int64</th><th>float64</th><th>float64</th><th>int16</th><th>float32</th><th>int16</th><th>int16</th><th>float32</th><th>float32</th><th>float32</th><th>float32</th><th>float64</th><th>float32</th><th>float64</th><th>float32</th><th>float32</th><th>float32</th><th>float32</th><th>float32</th><th>float32</th><th>float32</th><th>float32</th><th>float32</th><th>float32</th><th>float32</th><th>float32</th><th>float32</th><th>float32</th><th>float32</th><th>float32</th><th>float32</th><th>float32</th><th>float32</th><th>float32</th><th>float32</th><th>float32</th><th>float32</th><th>float32</th><th>float32</th><th>float32</th><th>float32</th><th>float32</th><th>float32</th><th>float32</th><th>float32</th><th>float32</th><th>float32</th><th>float32</th><th>int32</th><th>bool</th><th>int64</th><th>bool</th></tr></thead>\n",
       "<tr><td>616089230757593610</td><td>cmx</td><td>other</td><td>2152</td><td>2152</td><td>1.0791710884059862</td><td>8.043609933906356e-05</td><td>5</td><td>8196.955931693316</td><td>-31.270945382111947 .. -4.304250468199833</td><td>7928</td><td>GALAXY</td><td>--</td><td>10</td><td>8.043657064437866</td><td>0</td><td>23.914121939862518</td><td>29.974787585945496</td><td>0.0</td><td>0.0</td><td>0.0</td><td>4294967296</td><td>4</td><td>SKY</td><td>0.8476382465505894</td><td>63</td><td>9010</td><td>0240p300</td><td>495765</td><td>522</td><td>--</td><td>0.0</td><td>0.0</td><td>0.0</td><td>0.0</td><td>0.0</td><td>0.0</td><td>0.0</td><td>0.0</td><td>0.0</td><td>-1.0</td><td>-1.0</td><td>-0.003990191</td><td>0.026369713</td><td>0.0027650434</td><td>0.0</td><td>0.0</td><td>0.0</td><td>0</td><td>0.0</td><td>0.0</td><td>0.0</td><td>0.0</td><td>0</td><td>--</td><td>0.0</td><td>0.0</td><td>0.0</td><td>0.0</td><td>--</td><td>-1</td><td>-1</td><td>4294967296</td><td>4294967296</td><td>0</td><td>0</td><td>0</td><td>0</td><td>0</td><td>0</td><td>0</td><td>0</td><td>0</td><td>0</td><td>0</td><td>0</td><td>0</td><td>0</td><td>0</td><td>23.914121939862518</td><td>29.974787585945496</td><td>4</td><td>3600.0</td><td>1</td><td>1</td><td>-0.004</td><td>0.008336666</td><td>-0.00275</td><td>0.009987492</td><td>23.914140396147115</td><td>0.14040637</td><td>29.974777243955057</td><td>0.12941206</td><td>0.793052</td><td>639.917</td><td>0.3878204</td><td>121.14421</td><td>339.00644</td><td>2058.3599</td><td>832.6921</td><td>10.254479</td><td>3.4988468</td><td>43286.7</td><td>93.85132</td><td>7782.0195</td><td>0.16086136</td><td>8970.089</td><td>47104.805</td><td>28.528677</td><td>136.52605</td><td>5.594912e-05</td><td>293.99265</td><td>1.0618171e-05</td><td>0.0</td><td>13069.495</td><td>7.403538e-05</td><td>60.08052</td><td>135.6212</td><td>43926.617</td><td>388.23178</td><td>7903.1636</td><td>339.1673</td><td>24097.945</td><td>47937.496</td><td>98.86368</td><td>275.6461</td><td>0</td><td>False</td><td>1</td><td>True</td></tr>\n",
       "<tr><td>39628473202904408</td><td>cmx</td><td>other</td><td>2152</td><td>2152</td><td>0.18041222201570103</td><td>8.931818686229672e-06</td><td>0</td><td>12949.879635035992</td><td>-109.46447587943996 .. 12.118995244141198</td><td>7926</td><td>GALAXY</td><td>--</td><td>10</td><td>8801.990980923176</td><td>0</td><td>24.04010479193436</td><td>29.813362596941825</td><td>0.0</td><td>0.0</td><td>2020.9597</td><td>72057594037929216</td><td>1</td><td>TGT</td><td>0.6306843567905966</td><td>7</td><td>9010</td><td>--</td><td>494513</td><td>3416</td><td>DEV</td><td>0.047077972</td><td>6.2664</td><td>17.88001</td><td>40.539513</td><td>59.783627</td><td>50.919693</td><td>533.2463</td><td>113.88678</td><td>26.52623</td><td>-1.0</td><td>-1.0</td><td>2.5057633</td><td>7.149731</td><td>16.210651</td><td>2.5057633</td><td>7.149731</td><td>16.210651</td><td>0</td><td>4.0</td><td>0.96060556</td><td>-0.2916907</td><td>-0.14283308</td><td>0</td><td>--</td><td>0.0</td><td>0.0</td><td>0.0</td><td>0.0</td><td>S</td><td>3200</td><td>1</td><td>72057594037929216</td><td>0</td><td>0</td><td>0</td><td>0</td><td>0</td><td>0</td><td>0</td><td>0</td><td>0</td><td>0</td><td>0</td><td>0</td><td>0</td><td>0</td><td>0</td><td>0</td><td>24.04010479193436</td><td>29.813362596941825</td><td>4</td><td>3600.0</td><td>1</td><td>1</td><td>0.00025</td><td>0.003354102</td><td>-0.0045</td><td>0.011247222</td><td>24.040103662284565</td><td>0.06309803</td><td>29.813346201005267</td><td>0.1351914</td><td>0.7384255</td><td>375.92218</td><td>0.28205463</td><td>72.574196</td><td>286.87042</td><td>1440.3491</td><td>518.8466</td><td>7.5127354</td><td>2.1487298</td><td>35654.54</td><td>78.229355</td><td>6381.422</td><td>0.13194717</td><td>7207.146</td><td>37663.082</td><td>23.319983</td><td>113.28456</td><td>5.8113685e-05</td><td>259.69064</td><td>1.0980662e-05</td><td>0.0</td><td>11505.431</td><td>7.4350384e-05</td><td>52.762306</td><td>119.950485</td><td>36030.46</td><td>338.20206</td><td>6453.996</td><td>287.00238</td><td>20152.926</td><td>38181.93</td><td>83.595024</td><td>235.38377</td><td>0</td><td>False</td><td>1</td><td>True</td></tr>\n",
       "<tr><td>39628473202902554</td><td>cmx</td><td>other</td><td>2152</td><td>2152</td><td>0.4461359257327492</td><td>9.043715628800776e-05</td><td>4</td><td>8692.726730454713</td><td>-31.89740441208347 .. -9.638498468086924</td><td>7928</td><td>GALAXY</td><td>--</td><td>10</td><td>2.250591341406107</td><td>0</td><td>23.945875345349148</td><td>29.828361100149564</td><td>0.0</td><td>0.0</td><td>2020.9597</td><td>4096</td><td>1</td><td>TGT</td><td>0.9733467479956088</td><td>1</td><td>9010</td><td>--</td><td>494513</td><td>1562</td><td>PSF</td><td>0.051681582</td><td>0.37152117</td><td>0.6850158</td><td>1.0201772</td><td>2.7956157</td><td>3.3131866</td><td>1447.5828</td><td>409.9668</td><td>44.40046</td><td>-1.0</td><td>-1.0</td><td>0.28886968</td><td>0.53262186</td><td>0.7932207</td><td>0.28886974</td><td>0.53262186</td><td>0.793221</td><td>0</td><td>0.0</td><td>0.0</td><td>0.0</td><td>0.0</td><td>0</td><td>--</td><td>0.0</td><td>0.0</td><td>0.0</td><td>0.0</td><td>S</td><td>3400</td><td>1</td><td>4096</td><td>0</td><td>0</td><td>0</td><td>0</td><td>0</td><td>0</td><td>0</td><td>0</td><td>0</td><td>0</td><td>0</td><td>0</td><td>0</td><td>0</td><td>0</td><td>0</td><td>23.945875345349148</td><td>29.828361100149564</td><td>4</td><td>3600.0</td><td>1</td><td>1</td><td>-0.00325</td><td>0.005315073</td><td>-0.0035</td><td>0.0118110115</td><td>23.945890224080333</td><td>0.079532295</td><td>29.828348267778797</td><td>0.14833571</td><td>0.789</td><td>380.8557</td><td>0.28037697</td><td>73.49992</td><td>281.95645</td><td>1435.6202</td><td>522.54126</td><td>7.4537244</td><td>2.1623125</td><td>36964.37</td><td>81.49103</td><td>6597.6494</td><td>0.13595825</td><td>7462.113</td><td>38557.43</td><td>24.222086</td><td>117.95613</td><td>6.112426e-05</td><td>273.4575</td><td>1.1534049e-05</td><td>0.0</td><td>12029.667</td><td>7.746998e-05</td><td>55.35862</td><td>126.0278</td><td>37345.227</td><td>355.22888</td><td>6671.1494</td><td>282.0924</td><td>20927.4</td><td>39079.973</td><td>87.03443</td><td>246.14624</td><td>0</td><td>False</td><td>1</td><td>True</td></tr>\n",
       "<tr><td>616089225506325615</td><td>cmx</td><td>other</td><td>2152</td><td>2152</td><td>0.6192322343815375</td><td>6.893268920101344e-05</td><td>5</td><td>8837.669908761978</td><td>4.927672717788215 .. 2.954645081914251</td><td>7928</td><td>GALAXY</td><td>--</td><td>10</td><td>0.06744912266731262</td><td>0</td><td>24.0248158157784</td><td>29.859929824300632</td><td>0.0</td><td>0.0</td><td>0.0</td><td>4294967296</td><td>4</td><td>SKY</td><td>0.9313062399242229</td><td>63</td><td>9010</td><td>0240p297</td><td>494513</td><td>1135</td><td>--</td><td>0.0</td><td>0.0</td><td>0.0</td><td>0.0</td><td>0.0</td><td>0.0</td><td>0.0</td><td>0.0</td><td>0.0</td><td>-1.0</td><td>-1.0</td><td>0.034998354</td><td>-0.017701544</td><td>-0.017740862</td><td>0.0</td><td>0.0</td><td>0.0</td><td>0</td><td>0.0</td><td>0.0</td><td>0.0</td><td>0.0</td><td>0</td><td>--</td><td>0.0</td><td>0.0</td><td>0.0</td><td>0.0</td><td>--</td><td>-1</td><td>-1</td><td>4294967296</td><td>4294967296</td><td>0</td><td>0</td><td>0</td><td>0</td><td>0</td><td>0</td><td>0</td><td>0</td><td>0</td><td>0</td><td>0</td><td>0</td><td>0</td><td>0</td><td>0</td><td>24.0248158157784</td><td>29.859929824300632</td><td>4</td><td>3600.0</td><td>1</td><td>1</td><td>-0.002</td><td>0.0045276927</td><td>-0.00475</td><td>0.011011357</td><td>24.024824967776166</td><td>0.07699444</td><td>29.8599123759356</td><td>0.13131185</td><td>0.7930857</td><td>493.4236</td><td>0.39461666</td><td>95.011505</td><td>419.78854</td><td>1972.9801</td><td>678.69617</td><td>10.575107</td><td>2.8736057</td><td>45257.31</td><td>97.693634</td><td>8065.9526</td><td>0.17126657</td><td>9150.808</td><td>47455.28</td><td>29.444912</td><td>141.98048</td><td>7.116068e-05</td><td>310.24377</td><td>1.3401637e-05</td><td>0.0</td><td>13751.531</td><td>9.0495654e-05</td><td>63.26845</td><td>143.77281</td><td>45750.73</td><td>408.33203</td><td>8160.9644</td><td>419.9598</td><td>24875.32</td><td>48133.977</td><td>103.28847</td><td>288.6269</td><td>0</td><td>False</td><td>1</td><td>True</td></tr>\n",
       "<tr><td>39628473202903445</td><td>cmx</td><td>other</td><td>2152</td><td>2152</td><td>1.0724836869842256</td><td>0.00017892209501583296</td><td>4</td><td>8836.274995744228</td><td>6.410535420223873e-06 .. 0.0</td><td>7928</td><td>QSO</td><td>--</td><td>4</td><td>1.065472811460495</td><td>0</td><td>23.992033514299845</td><td>29.781982988701284</td><td>0.0</td><td>0.0</td><td>2020.9597</td><td>4096</td><td>1</td><td>TGT</td><td>0.6102468219832407</td><td>1</td><td>9010</td><td>--</td><td>494513</td><td>2453</td><td>PSF</td><td>0.04961497</td><td>0.47470406</td><td>1.1346066</td><td>2.2381434</td><td>9.788383</td><td>16.913479</td><td>1714.0192</td><td>470.1745</td><td>75.69697</td><td>-1.0</td><td>-1.0</td><td>0.36972436</td><td>0.8836911</td><td>1.7431833</td><td>0.36972436</td><td>0.8836911</td><td>1.7431833</td><td>0</td><td>0.0</td><td>0.0</td><td>0.0</td><td>0.0</td><td>0</td><td>--</td><td>0.0</td><td>0.0</td><td>0.0</td><td>0.0</td><td>S</td><td>3400</td><td>1</td><td>4096</td><td>0</td><td>0</td><td>0</td><td>0</td><td>0</td><td>0</td><td>0</td><td>0</td><td>0</td><td>0</td><td>0</td><td>0</td><td>0</td><td>0</td><td>0</td><td>0</td><td>23.992033514299845</td><td>29.781982988701284</td><td>4</td><td>3600.0</td><td>1</td><td>1</td><td>-0.0015</td><td>0.004636809</td><td>-0.0085</td><td>0.014781745</td><td>23.99204043344221</td><td>0.082372345</td><td>29.781952166307505</td><td>0.15774429</td><td>0.789</td><td>350.03723</td><td>0.24713369</td><td>68.04646</td><td>239.64891</td><td>1293.9045</td><td>482.4029</td><td>6.5055223</td><td>1.9569227</td><td>33715.918</td><td>74.47998</td><td>6077.173</td><td>0.121340595</td><td>6861.571</td><td>35522.973</td><td>21.930359</td><td>107.99341</td><td>5.352476e-05</td><td>249.94939</td><td>1.0181039e-05</td><td>0.0</td><td>11069.705</td><td>6.82582e-05</td><td>50.166744</td><td>115.29958</td><td>34065.957</td><td>324.6765</td><td>6145.219</td><td>239.77025</td><td>19225.18</td><td>36005.375</td><td>78.60262</td><td>225.24991</td><td>0</td><td>False</td><td>1</td><td>True</td></tr>\n",
       "<tr><td>39628473202903539</td><td>cmx</td><td>other</td><td>2152</td><td>2152</td><td>-0.0019956912923479522</td><td>4.1311493573349107e-48</td><td>1570</td><td>8.999999999999996e+99</td><td>0.0 .. 0.0</td><td>0</td><td>STAR</td><td>CV</td><td>3</td><td>1.942668892225729e+84</td><td>512</td><td>23.9976460870853</td><td>29.8298292545281</td><td>0.0</td><td>0.0</td><td>2020.9597</td><td>4096</td><td>1</td><td>TGT</td><td>0.07391118716059553</td><td>1</td><td>9010</td><td>--</td><td>494513</td><td>2547</td><td>PSF</td><td>0.04923722</td><td>0.36979324</td><td>0.9976344</td><td>1.748319</td><td>2.46375</td><td>3.3211248</td><td>1973.6221</td><td>577.8516</td><td>77.217896</td><td>-1.0</td><td>-1.0</td><td>0.28765</td><td>0.776027</td><td>1.3599598</td><td>0.28765</td><td>0.776027</td><td>1.3599598</td><td>0</td><td>0.0</td><td>0.0</td><td>0.0</td><td>0.0</td><td>0</td><td>--</td><td>0.0</td><td>0.0</td><td>0.0</td><td>0.0</td><td>S</td><td>3400</td><td>1</td><td>4096</td><td>0</td><td>0</td><td>0</td><td>0</td><td>0</td><td>0</td><td>0</td><td>0</td><td>0</td><td>0</td><td>0</td><td>0</td><td>0</td><td>0</td><td>0</td><td>0</td><td>23.9976460870853</td><td>29.8298292545281</td><td>0</td><td>0.0</td><td>0</td><td>0</td><td>0.0</td><td>0.0</td><td>0.0</td><td>0.0</td><td>23.9976460870853</td><td>0.0</td><td>29.8298292545281</td><td>0.0</td><td>0.789</td><td>354.91718</td><td>0.2617178</td><td>66.83243</td><td>279.138</td><td>1302.0255</td><td>514.57477</td><td>7.2949877</td><td>1.9679965</td><td>32698.225</td><td>72.3826</td><td>5724.0327</td><td>0.12486173</td><td>6486.4995</td><td>36558.098</td><td>22.485813</td><td>103.08629</td><td>5.2723684e-05</td><td>243.56364</td><td>9.7335205e-06</td><td>0.0</td><td>10398.31</td><td>7.1218026e-05</td><td>51.462486</td><td>110.08269</td><td>33053.14</td><td>316.20795</td><td>5790.865</td><td>279.26285</td><td>18186.834</td><td>37072.67</td><td>81.243286</td><td>215.13696</td><td>0</td><td>False</td><td>1</td><td>True</td></tr>\n",
       "<tr><td>1152921504619435527</td><td>cmx</td><td>other</td><td>2152</td><td>2152</td><td>-3.7560540650860466e-05</td><td>4.483475512958257e-06</td><td>0</td><td>14598.355199217853</td><td>-682.0083130749723 .. 0.0</td><td>7927</td><td>STAR</td><td>M</td><td>5</td><td>15410.464417457524</td><td>0</td><td>23.950461304572823</td><td>29.801229633567928</td><td>-2.2050662</td><td>-2.399524</td><td>2020.9597</td><td>140737488355328</td><td>1</td><td>TGT</td><td>0.3038663478797552</td><td>63</td><td>0</td><td>--</td><td>0</td><td>0</td><td>--</td><td>0.0</td><td>0.0</td><td>0.0</td><td>0.0</td><td>0.0</td><td>0.0</td><td>0.0</td><td>0.0</td><td>0.0</td><td>-1.0</td><td>-1.0</td><td>0.0</td><td>0.0</td><td>0.0</td><td>0.0</td><td>0.0</td><td>0.0</td><td>0</td><td>0.0</td><td>0.0</td><td>0.0</td><td>0.0</td><td>303002314871055872</td><td>F1</td><td>20.403383</td><td>0.0</td><td>0.0</td><td>0.0</td><td>--</td><td>4001</td><td>1</td><td>140737488355328</td><td>0</td><td>0</td><td>0</td><td>0</td><td>0</td><td>0</td><td>0</td><td>0</td><td>0</td><td>0</td><td>0</td><td>0</td><td>0</td><td>0</td><td>0</td><td>0</td><td>23.950461304572823</td><td>29.801229633567928</td><td>4</td><td>3600.0</td><td>1</td><td>1</td><td>-0.002</td><td>0.0045825755</td><td>-0.00525</td><td>0.013610657</td><td>23.950470512308193</td><td>0.077762365</td><td>29.801210514666565</td><td>0.16437685</td><td>0.79344845</td><td>484.55405</td><td>0.37527397</td><td>93.74482</td><td>389.26932</td><td>1904.3715</td><td>662.65826</td><td>9.954151</td><td>2.7838745</td><td>42410.92</td><td>92.00648</td><td>7615.663</td><td>0.15940638</td><td>8668.981</td><td>44592.24</td><td>27.475513</td><td>133.775</td><td>6.63045e-05</td><td>290.37714</td><td>1.2571996e-05</td><td>0.0</td><td>12905.788</td><td>8.4498206e-05</td><td>58.665295</td><td>134.6868</td><td>42895.477</td><td>382.75888</td><td>7709.4077</td><td>389.4287</td><td>23479.14</td><td>45254.9</td><td>96.094955</td><td>271.24567</td><td>0</td><td>False</td><td>1</td><td>True</td></tr>\n",
       "<tr><td>39628473202904338</td><td>cmx</td><td>other</td><td>2152</td><td>2152</td><td>0.8033783177649549</td><td>9.865480363245627e-06</td><td>0</td><td>9064.864799499512</td><td>23.526651033999798 .. -1.0206920932911387</td><td>7928</td><td>GALAXY</td><td>--</td><td>10</td><td>1689.1031370162964</td><td>0</td><td>24.03595162455844</td><td>29.77724584804246</td><td>0.0</td><td>0.0</td><td>2020.9597</td><td>18014398509484032</td><td>1</td><td>TGT</td><td>0.9947400693871249</td><td>7</td><td>9010</td><td>--</td><td>494513</td><td>3346</td><td>REX</td><td>0.047228485</td><td>0.42894408</td><td>0.6652427</td><td>1.3453728</td><td>1.1291844</td><td>-2.1601837</td><td>1247.0366</td><td>305.00543</td><td>49.60211</td><td>-1.0</td><td>-1.0</td><td>0.239489</td><td>0.37141976</td><td>0.7511515</td><td>0.23949224</td><td>0.3714337</td><td>0.751194</td><td>0</td><td>1.0</td><td>0.43136793</td><td>0.0</td><td>0.0</td><td>0</td><td>--</td><td>0.0</td><td>0.0</td><td>0.0</td><td>0.0</td><td>S</td><td>3000</td><td>1</td><td>18014398509484032</td><td>0</td><td>0</td><td>0</td><td>0</td><td>0</td><td>0</td><td>0</td><td>0</td><td>0</td><td>0</td><td>0</td><td>0</td><td>0</td><td>0</td><td>0</td><td>0</td><td>24.03595162455844</td><td>29.77724584804246</td><td>4</td><td>3600.0</td><td>1</td><td>1</td><td>-0.00075</td><td>0.003354102</td><td>-0.004</td><td>0.00977241</td><td>24.035955038566776</td><td>0.061475772</td><td>29.77723135896226</td><td>0.11622637</td><td>0.768947</td><td>389.17056</td><td>0.27916428</td><td>75.03136</td><td>280.12207</td><td>1433.296</td><td>534.7394</td><td>7.4365606</td><td>2.1605105</td><td>36447.633</td><td>81.34397</td><td>6499.7812</td><td>0.13291377</td><td>7355.8657</td><td>38069.47</td><td>24.060589</td><td>117.0549</td><td>5.9265363e-05</td><td>270.36368</td><td>1.1176334e-05</td><td>0.0</td><td>11855.331</td><td>7.5306554e-05</td><td>54.831856</td><td>124.534325</td><td>36836.805</td><td>351.98682</td><td>6574.8125</td><td>280.25497</td><td>20644.492</td><td>38604.207</td><td>86.32901</td><td>243.74973</td><td>0</td><td>False</td><td>1</td><td>True</td></tr>\n",
       "<tr><td>39628473202902855</td><td>cmx</td><td>other</td><td>2152</td><td>2152</td><td>0.42633336573476377</td><td>4.99177786993424e-05</td><td>0</td><td>9105.640639692545</td><td>244.5843509546432 .. 6.104670668375702</td><td>7928</td><td>GALAXY</td><td>--</td><td>10</td><td>1963.381346102804</td><td>0</td><td>23.962939295410788</td><td>29.85657131830108</td><td>0.0</td><td>0.0</td><td>2020.9597</td><td>9007199254742272</td><td>1</td><td>TGT</td><td>0.3796430864366923</td><td>7</td><td>9010</td><td>--</td><td>494513</td><td>1863</td><td>DEV</td><td>0.050514728</td><td>1.7349218</td><td>9.831841</td><td>25.567064</td><td>53.514862</td><td>35.238537</td><td>782.5607</td><td>117.96019</td><td>24.603165</td><td>-1.0</td><td>-1.0</td><td>0.70207626</td><td>3.978682</td><td>10.346304</td><td>0.70207626</td><td>3.978682</td><td>10.346304</td><td>0</td><td>4.0</td><td>0.82405376</td><td>0.1558535</td><td>0.053693846</td><td>0</td><td>--</td><td>0.0</td><td>0.0</td><td>0.0</td><td>0.0</td><td>S</td><td>3200</td><td>1</td><td>9007199254742272</td><td>0</td><td>0</td><td>0</td><td>0</td><td>0</td><td>0</td><td>0</td><td>0</td><td>0</td><td>0</td><td>0</td><td>0</td><td>0</td><td>0</td><td>0</td><td>0</td><td>23.962939295410788</td><td>29.85657131830108</td><td>4</td><td>3600.0</td><td>1</td><td>1</td><td>-0.004</td><td>0.0071414285</td><td>-0.00175</td><td>0.011124298</td><td>23.962957576386522</td><td>0.11209946</td><td>29.85656484651642</td><td>0.14513266</td><td>0.7432128</td><td>390.61118</td><td>0.28815365</td><td>75.352</td><td>293.4766</td><td>1468.5331</td><td>535.6956</td><td>7.664151</td><td>2.1964865</td><td>36340.35</td><td>80.26039</td><td>6499.643</td><td>0.13251963</td><td>7372.3613</td><td>38180.855</td><td>23.83818</td><td>115.99582</td><td>5.8966674e-05</td><td>269.69244</td><td>1.1137343e-05</td><td>0.0</td><td>11792.249</td><td>7.50736e-05</td><td>54.478645</td><td>123.84251</td><td>36730.96</td><td>350.241</td><td>6574.995</td><td>293.6091</td><td>20633.145</td><td>38716.55</td><td>85.98097</td><td>242.03482</td><td>0</td><td>False</td><td>1</td><td>True</td></tr>\n",
       "<tr><td>39628473202905021</td><td>cmx</td><td>other</td><td>2152</td><td>2152</td><td>2.628380234087188</td><td>0.0008298716232476403</td><td>0</td><td>9080.155919251963</td><td>3.680587112864888e-05 .. 0.0</td><td>7912</td><td>QSO</td><td>--</td><td>4</td><td>10.152379911392927</td><td>0</td><td>24.07208523825808</td><td>29.810925046492702</td><td>0.0</td><td>0.0</td><td>2020.9597</td><td>4096</td><td>1</td><td>TGT</td><td>0.8685497663665449</td><td>1</td><td>9010</td><td>--</td><td>494513</td><td>4029</td><td>PSF</td><td>0.046200383</td><td>0.52231437</td><td>0.7497928</td><td>1.0166756</td><td>4.3251495</td><td>5.654039</td><td>1731.1237</td><td>493.54645</td><td>76.38771</td><td>-1.0</td><td>-1.0</td><td>0.40655112</td><td>0.5836123</td><td>0.79134446</td><td>0.40655112</td><td>0.5836123</td><td>0.79134446</td><td>0</td><td>0.0</td><td>0.0</td><td>0.0</td><td>0.0</td><td>0</td><td>--</td><td>0.0</td><td>0.0</td><td>0.0</td><td>0.0</td><td>S</td><td>3400</td><td>1</td><td>4096</td><td>0</td><td>0</td><td>0</td><td>0</td><td>0</td><td>0</td><td>0</td><td>0</td><td>0</td><td>0</td><td>0</td><td>0</td><td>0</td><td>0</td><td>0</td><td>0</td><td>24.07208523825808</td><td>29.810925046492702</td><td>4</td><td>3600.0</td><td>1</td><td>1</td><td>0.00025</td><td>0.003640055</td><td>-0.00325</td><td>0.009912114</td><td>24.0720840825983</td><td>0.06869798</td><td>29.810913209228744</td><td>0.12279208</td><td>0.789</td><td>408.43756</td><td>0.3017227</td><td>78.606995</td><td>309.93808</td><td>1527.5825</td><td>559.5553</td><td>8.023414</td><td>2.2990966</td><td>37594.88</td><td>82.6443</td><td>6700.498</td><td>0.13818309</td><td>7636.7827</td><td>39335.508</td><td>24.7352</td><td>119.766136</td><td>6.0505714e-05</td><td>277.44046</td><td>1.1400906e-05</td><td>0.0</td><td>12101.109</td><td>7.694523e-05</td><td>56.189697</td><td>127.3218</td><td>38003.316</td><td>360.38647</td><td>6779.105</td><td>310.07626</td><td>21265.475</td><td>39895.062</td><td>88.94831</td><td>249.38702</td><td>0</td><td>False</td><td>1</td><td>True</td></tr>\n",
       "<tr><td>...</td><td>...</td><td>...</td><td>...</td><td>...</td><td>...</td><td>...</td><td>...</td><td>...</td><td>...</td><td>...</td><td>...</td><td>...</td><td>...</td><td>...</td><td>...</td><td>...</td><td>...</td><td>...</td><td>...</td><td>...</td><td>...</td><td>...</td><td>...</td><td>...</td><td>...</td><td>...</td><td>...</td><td>...</td><td>...</td><td>...</td><td>...</td><td>...</td><td>...</td><td>...</td><td>...</td><td>...</td><td>...</td><td>...</td><td>...</td><td>...</td><td>...</td><td>...</td><td>...</td><td>...</td><td>...</td><td>...</td><td>...</td><td>...</td><td>...</td><td>...</td><td>...</td><td>...</td><td>...</td><td>...</td><td>...</td><td>...</td><td>...</td><td>...</td><td>...</td><td>...</td><td>...</td><td>...</td><td>...</td><td>...</td><td>...</td><td>...</td><td>...</td><td>...</td><td>...</td><td>...</td><td>...</td><td>...</td><td>...</td><td>...</td><td>...</td><td>...</td><td>...</td><td>...</td><td>...</td><td>...</td><td>...</td><td>...</td><td>...</td><td>...</td><td>...</td><td>...</td><td>...</td><td>...</td><td>...</td><td>...</td><td>...</td><td>...</td><td>...</td><td>...</td><td>...</td><td>...</td><td>...</td><td>...</td><td>...</td><td>...</td><td>...</td><td>...</td><td>...</td><td>...</td><td>...</td><td>...</td><td>...</td><td>...</td><td>...</td><td>...</td><td>...</td><td>...</td><td>...</td><td>...</td><td>...</td><td>...</td><td>...</td><td>...</td><td>...</td><td>...</td><td>...</td><td>...</td><td>...</td><td>...</td><td>...</td><td>...</td><td>...</td><td>...</td><td>...</td></tr>\n",
       "<tr><td>39628438591508567</td><td>sv3</td><td>dark</td><td>28151</td><td>28151</td><td>1.3236564719980437</td><td>9.678104363710807e-05</td><td>0</td><td>7513.244935154915</td><td>6.387477209530788 .. -5.642922125136866</td><td>7810</td><td>GALAXY</td><td>--</td><td>10</td><td>68.88297525048256</td><td>0</td><td>193.19777790175036</td><td>28.038283203523896</td><td>0.0</td><td>0.0</td><td>2015.5</td><td>1179714</td><td>1</td><td>TGT</td><td>0.8570172677426477</td><td>1</td><td>9010</td><td>1931p280</td><td>486261</td><td>4183</td><td>PSF</td><td>0.009946096</td><td>0.32184792</td><td>0.3011251</td><td>0.3799862</td><td>-1.9816524</td><td>1.2779905</td><td>1571.7202</td><td>596.1764</td><td>149.16626</td><td>4.1489058</td><td>0.8837122</td><td>0.25048116</td><td>0.23435345</td><td>0.29572782</td><td>0.25048116</td><td>0.23435345</td><td>0.29572782</td><td>0</td><td>0.0</td><td>0.0</td><td>0.0</td><td>0.0</td><td>0</td><td>--</td><td>0.0</td><td>0.0</td><td>0.0</td><td>0.0</td><td>S</td><td>103100</td><td>9</td><td>0</td><td>0</td><td>0</td><td>0</td><td>0</td><td>0</td><td>0</td><td>0</td><td>0</td><td>0</td><td>0</td><td>0</td><td>0</td><td>1179714</td><td>0</td><td>0</td><td>0</td><td>193.19777790175036</td><td>28.038283203523896</td><td>1</td><td>1033.5431</td><td>1</td><td>1</td><td>-0.003</td><td>0.003</td><td>-0.001</td><td>0.001</td><td>193.19776488177612</td><td>0.0</td><td>28.038287180314402</td><td>0.0</td><td>0.789</td><td>414.76016</td><td>0.2417607</td><td>73.21031</td><td>219.63084</td><td>1156.3801</td><td>443.08588</td><td>6.4951158</td><td>2.171587</td><td>10678.382</td><td>29.096592</td><td>1907.7155</td><td>0.028215608</td><td>1891.8634</td><td>12077.774</td><td>7.6032815</td><td>38.412792</td><td>3.9208775e-05</td><td>128.71</td><td>6.9865605e-06</td><td>0.0</td><td>5398.7354</td><td>4.361324e-05</td><td>26.63677</td><td>59.69335</td><td>11093.142</td><td>158.04836</td><td>1980.9258</td><td>219.65906</td><td>8446.979</td><td>12520.86</td><td>40.73517</td><td>100.27773</td><td>1</td><td>True</td><td>1</td><td>True</td></tr>\n",
       "<tr><td>-1122305</td><td>sv3</td><td>dark</td><td>28151</td><td>28151</td><td>-0.0019956912923479522</td><td>4.1311493573349107e-48</td><td>1570</td><td>8.999999999999996e+99</td><td>0.0 .. 0.0</td><td>0</td><td>STAR</td><td>CV</td><td>3</td><td>1.942668892225729e+84</td><td>9</td><td>193.31778265649916</td><td>27.98278838350515</td><td>0.0</td><td>0.0</td><td>0.0</td><td>0</td><td>0</td><td>--</td><td>0.0</td><td>0</td><td>0</td><td>--</td><td>0</td><td>0</td><td>--</td><td>0.0</td><td>0.0</td><td>0.0</td><td>0.0</td><td>0.0</td><td>0.0</td><td>0.0</td><td>0.0</td><td>0.0</td><td>0.0</td><td>0.0</td><td>0.0</td><td>0.0</td><td>0.0</td><td>0.0</td><td>0.0</td><td>0.0</td><td>0</td><td>0.0</td><td>0.0</td><td>0.0</td><td>0.0</td><td>0</td><td>--</td><td>0.0</td><td>0.0</td><td>0.0</td><td>0.0</td><td>--</td><td>0</td><td>0</td><td>0</td><td>0</td><td>0</td><td>0</td><td>0</td><td>0</td><td>0</td><td>0</td><td>0</td><td>0</td><td>0</td><td>0</td><td>0</td><td>0</td><td>0</td><td>0</td><td>0</td><td>193.31778265649916</td><td>27.98278838350515</td><td>0</td><td>0.0</td><td>0</td><td>0</td><td>0.027</td><td>0.027</td><td>0.011</td><td>0.011</td><td>193.31790142227547</td><td>0.0</td><td>27.98274424383188</td><td>0.0</td><td>0.7955661</td><td>380.87692</td><td>0.22353972</td><td>70.62959</td><td>189.59833</td><td>1127.8743</td><td>398.8359</td><td>5.5875564</td><td>2.0372472</td><td>9424.572</td><td>26.1909</td><td>1771.2501</td><td>0.023472365</td><td>1768.6176</td><td>10484.766</td><td>6.3440332</td><td>35.115925</td><td>3.435559e-05</td><td>110.48849</td><td>6.4383908e-06</td><td>0.0</td><td>4855.6626</td><td>3.759219e-05</td><td>21.158222</td><td>51.962696</td><td>9805.449</td><td>136.90292</td><td>1841.8798</td><td>189.6218</td><td>7752.1543</td><td>10883.602</td><td>33.089813</td><td>89.11587</td><td>1</td><td>True</td><td>1</td><td>True</td></tr>\n",
       "<tr><td>39628438587315598</td><td>sv3</td><td>dark</td><td>28151</td><td>28151</td><td>0.8288070084174634</td><td>1.209193467882704e-05</td><td>0</td><td>8262.380909919739</td><td>171.77479679755055 .. 8.920146706099956</td><td>7766</td><td>GALAXY</td><td>--</td><td>10</td><td>2451.5046706199646</td><td>0</td><td>192.97423530864023</td><td>28.08879418740102</td><td>0.0</td><td>0.0</td><td>2015.5</td><td>4611686018428829766</td><td>1</td><td>TGT</td><td>0.7598718407654129</td><td>63</td><td>9010</td><td>1928p280</td><td>486260</td><td>5518</td><td>PSF</td><td>0.0100650815</td><td>2.7785654</td><td>3.042028</td><td>6.735959</td><td>21.500917</td><td>29.15547</td><td>1092.7979</td><td>389.67273</td><td>181.51144</td><td>2.9494574</td><td>0.74237883</td><td>2.163779</td><td>2.3689475</td><td>5.245558</td><td>2.1760025</td><td>2.3924408</td><td>5.3277225</td><td>0</td><td>0.0</td><td>0.0</td><td>0.0</td><td>0.0</td><td>3961964604502302720</td><td>G2</td><td>20.991219</td><td>20.493006</td><td>20.168554</td><td>0.0</td><td>S</td><td>103400</td><td>9</td><td>0</td><td>0</td><td>0</td><td>0</td><td>0</td><td>0</td><td>0</td><td>0</td><td>0</td><td>0</td><td>0</td><td>0</td><td>0</td><td>4611686018428829766</td><td>0</td><td>0</td><td>34359738368</td><td>192.97423530864023</td><td>28.08879418740102</td><td>1</td><td>1033.5431</td><td>1</td><td>1</td><td>-0.007</td><td>0.007</td><td>0.003</td><td>0.003</td><td>192.97420622632876</td><td>0.0</td><td>28.088782179485037</td><td>0.0</td><td>0.789</td><td>385.30807</td><td>0.22665578</td><td>68.660255</td><td>202.53741</td><td>1098.4962</td><td>410.8901</td><td>6.008911</td><td>2.0475812</td><td>9929.512</td><td>27.839464</td><td>1784.6038</td><td>0.025671937</td><td>1763.3843</td><td>11086.008</td><td>7.0755076</td><td>36.58983</td><td>4.12629e-05</td><td>127.97407</td><td>7.3683555e-06</td><td>0.0</td><td>5442.584</td><td>4.4741326e-05</td><td>26.245985</td><td>60.08313</td><td>10314.819</td><td>156.04019</td><td>1853.264</td><td>202.56308</td><td>8304.465</td><td>11496.897</td><td>39.330406</td><td>98.720535</td><td>1</td><td>True</td><td>1</td><td>True</td></tr>\n",
       "<tr><td>616089190890733816</td><td>sv3</td><td>dark</td><td>28151</td><td>28151</td><td>-0.0019956912923479522</td><td>4.1311493573349107e-48</td><td>1571</td><td>8.999999999999996e+99</td><td>0.0 .. 0.0</td><td>0</td><td>STAR</td><td>CV</td><td>3</td><td>1.942668892225729e+84</td><td>520</td><td>192.9743097402314</td><td>27.92284242194057</td><td>0.0</td><td>0.0</td><td>0.0</td><td>4294967296</td><td>4</td><td>SKY</td><td>0.8919590844415274</td><td>63</td><td>9010</td><td>1928p280</td><td>486260</td><td>248</td><td>--</td><td>0.0</td><td>0.0</td><td>0.0</td><td>0.0</td><td>0.0</td><td>0.0</td><td>0.0</td><td>0.0</td><td>0.0</td><td>0.0</td><td>0.0</td><td>-0.00818547</td><td>0.011869284</td><td>0.06846208</td><td>0.0</td><td>0.0</td><td>0.0</td><td>0</td><td>0.0</td><td>0.0</td><td>0.0</td><td>0.0</td><td>0</td><td>--</td><td>0.0</td><td>0.0</td><td>0.0</td><td>0.0</td><td>--</td><td>-1</td><td>-1</td><td>0</td><td>4294967296</td><td>0</td><td>0</td><td>0</td><td>0</td><td>0</td><td>0</td><td>0</td><td>0</td><td>0</td><td>0</td><td>0</td><td>0</td><td>0</td><td>0</td><td>0</td><td>192.9743097402314</td><td>27.92284242194057</td><td>0</td><td>0.0</td><td>0</td><td>0</td><td>1.525</td><td>1.525</td><td>-0.12</td><td>0.12</td><td>192.98067672462773</td><td>0.0</td><td>27.92329560218124</td><td>0.0</td><td>0.0</td><td>603.8938</td><td>0.3557932</td><td>529.14496</td><td>163.41064</td><td>8522.37</td><td>348.8543</td><td>4.8224454</td><td>9.716128</td><td>15551.864</td><td>43.705643</td><td>13718.321</td><td>0.020822918</td><td>13490.766</td><td>9337.291</td><td>5.659774</td><td>173.70543</td><td>6.5053355e-05</td><td>199.61974</td><td>5.698927e-05</td><td>0.0</td><td>42026.77</td><td>3.7870755e-05</td><td>20.975582</td><td>284.9361</td><td>16155.758</td><td>243.68117</td><td>14247.466</td><td>163.43147</td><td>64039.906</td><td>9686.1455</td><td>31.457802</td><td>468.35767</td><td>1</td><td>True</td><td>1</td><td>True</td></tr>\n",
       "<tr><td>39628438591507446</td><td>sv3</td><td>dark</td><td>28151</td><td>28151</td><td>1.6188228983294508</td><td>5.6934699935663317e-05</td><td>0</td><td>7775.133660554886</td><td>87.16992597125748 .. 6.1170491500433375</td><td>7925</td><td>GALAXY</td><td>--</td><td>10</td><td>44.30346751213074</td><td>0</td><td>193.13822909698175</td><td>28.02570143373259</td><td>0.0</td><td>0.0</td><td>2015.5</td><td>1179714</td><td>1</td><td>TGT</td><td>0.8113519519399416</td><td>1</td><td>9010</td><td>1931p280</td><td>486261</td><td>3062</td><td>REX</td><td>0.0101265535</td><td>0.6643662</td><td>0.7417794</td><td>0.9119717</td><td>2.2341526</td><td>1.2215959</td><td>1236.1249</td><td>453.7157</td><td>117.95439</td><td>4.12137</td><td>0.8988666</td><td>0.45014453</td><td>0.50259626</td><td>0.61791086</td><td>0.45014453</td><td>0.50259626</td><td>0.61791086</td><td>0</td><td>1.0</td><td>0.25930887</td><td>0.0</td><td>0.0</td><td>0</td><td>--</td><td>0.0</td><td>0.0</td><td>0.0</td><td>0.0</td><td>S</td><td>103100</td><td>9</td><td>0</td><td>0</td><td>0</td><td>0</td><td>0</td><td>0</td><td>0</td><td>0</td><td>0</td><td>0</td><td>0</td><td>0</td><td>0</td><td>1179714</td><td>0</td><td>0</td><td>0</td><td>193.13822909698175</td><td>28.02570143373259</td><td>2</td><td>1892.0006</td><td>2</td><td>2</td><td>-0.006</td><td>0.0060827625</td><td>0.0085</td><td>0.008860023</td><td>193.1382046980435</td><td>0.014671117</td><td>28.025667827778584</td><td>0.034781955</td><td>0.78162134</td><td>719.4554</td><td>0.3710176</td><td>128.08931</td><td>300.87546</td><td>1871.191</td><td>761.88727</td><td>9.778713</td><td>3.6277559</td><td>23354.014</td><td>54.84923</td><td>4096.6216</td><td>0.07251317</td><td>4393.127</td><td>23841.324</td><td>15.520684</td><td>76.590836</td><td>7.437796e-05</td><td>224.73581</td><td>1.3296851e-05</td><td>0.0</td><td>10047.171</td><td>8.0735896e-05</td><td>46.97744</td><td>108.24165</td><td>24073.469</td><td>279.95605</td><td>4224.711</td><td>300.94797</td><td>16311.488</td><td>24603.21</td><td>72.27684</td><td>188.46024</td><td>1</td><td>True</td><td>1</td><td>True</td></tr>\n",
       "<tr><td>39628438587314447</td><td>sv3</td><td>dark</td><td>28151</td><td>28151</td><td>0.7914074822009156</td><td>9.9305006387205e-05</td><td>0</td><td>7917.61648952961</td><td>0.00047362460660000554 .. 0.0</td><td>7840</td><td>QSO</td><td>--</td><td>4</td><td>571.8984959721565</td><td>0</td><td>192.92072660376581</td><td>28.06496673406025</td><td>0.0</td><td>0.0</td><td>2015.5</td><td>262148</td><td>1</td><td>TGT</td><td>0.15958925514114475</td><td>1</td><td>9010</td><td>1928p280</td><td>486260</td><td>4367</td><td>PSF</td><td>0.01056724</td><td>2.6817045</td><td>3.0504844</td><td>3.2640734</td><td>9.299197</td><td>7.651994</td><td>1195.0492</td><td>469.5998</td><td>204.62729</td><td>3.6732147</td><td>0.8535289</td><td>2.0834358</td><td>2.3699434</td><td>2.5358822</td><td>2.0834358</td><td>2.3699434</td><td>2.5358822</td><td>0</td><td>0.0</td><td>0.0</td><td>0.0</td><td>0.0</td><td>0</td><td>--</td><td>0.0</td><td>0.0</td><td>0.0</td><td>0.0</td><td>S</td><td>103400</td><td>4</td><td>0</td><td>0</td><td>0</td><td>0</td><td>0</td><td>0</td><td>0</td><td>0</td><td>0</td><td>0</td><td>0</td><td>0</td><td>0</td><td>262148</td><td>0</td><td>0</td><td>0</td><td>192.92072660376581</td><td>28.06496673406025</td><td>1</td><td>1033.5431</td><td>1</td><td>1</td><td>0.001</td><td>0.001</td><td>-0.003</td><td>0.003</td><td>192.92073045611383</td><td>0.0</td><td>28.06497860326054</td><td>0.0</td><td>0.789</td><td>368.9465</td><td>0.21618271</td><td>65.81862</td><td>193.75592</td><td>1051.5754</td><td>396.38004</td><td>5.740284</td><td>1.9471266</td><td>9809.076</td><td>27.06611</td><td>1762.2003</td><td>0.025902253</td><td>1734.4845</td><td>10980.005</td><td>6.8917522</td><td>35.557983</td><td>3.9815393e-05</td><td>124.425766</td><td>7.1089494e-06</td><td>0.0</td><td>5304.5083</td><td>4.331348e-05</td><td>25.610594</td><td>58.468994</td><td>10178.022</td><td>151.70805</td><td>1828.0189</td><td>193.78183</td><td>8090.5684</td><td>11376.385</td><td>38.24263</td><td>95.974106</td><td>1</td><td>True</td><td>1</td><td>True</td></tr>\n",
       "<tr><td>39628438587314411</td><td>sv3</td><td>dark</td><td>28151</td><td>28151</td><td>0.8065244397752959</td><td>6.135224108888501e-05</td><td>0</td><td>7810.633660972118</td><td>0.0004714977765576881 .. 0.0</td><td>7845</td><td>QSO</td><td>--</td><td>4</td><td>836.0214835703373</td><td>0</td><td>192.91985975074007</td><td>28.024179814831857</td><td>0.0</td><td>0.0</td><td>2015.5</td><td>4611686018428829766</td><td>1</td><td>TGT</td><td>0.027015926927710043</td><td>63</td><td>9010</td><td>1928p280</td><td>486260</td><td>4331</td><td>PSF</td><td>0.010889552</td><td>2.7684705</td><td>3.0123773</td><td>3.908153</td><td>11.7156</td><td>15.545705</td><td>1206.7393</td><td>471.6878</td><td>202.52179</td><td>2.9173653</td><td>0.7450885</td><td>2.156117</td><td>2.3460743</td><td>3.0437148</td><td>2.15696</td><td>2.3485167</td><td>3.0485187</td><td>0</td><td>0.0</td><td>0.0</td><td>0.0</td><td>0.0</td><td>0</td><td>--</td><td>0.0</td><td>0.0</td><td>0.0</td><td>0.0</td><td>S</td><td>103400</td><td>9</td><td>0</td><td>0</td><td>0</td><td>0</td><td>0</td><td>0</td><td>0</td><td>0</td><td>0</td><td>0</td><td>0</td><td>0</td><td>0</td><td>4611686018428829766</td><td>0</td><td>0</td><td>34426847232</td><td>192.91985975074007</td><td>28.024179814831857</td><td>1</td><td>1033.5431</td><td>1</td><td>1</td><td>-0.002</td><td>0.002</td><td>-0.002</td><td>0.002</td><td>192.9198512070148</td><td>0.0</td><td>28.024187701957914</td><td>0.0</td><td>0.789</td><td>367.7937</td><td>0.21595891</td><td>65.62036</td><td>193.77979</td><td>1049.1973</td><td>395.04214</td><td>5.7367263</td><td>1.9476643</td><td>9676.288</td><td>26.71453</td><td>1740.7294</td><td>0.025708731</td><td>1723.9392</td><td>10871.654</td><td>6.8121424</td><td>35.11808</td><td>3.927086e-05</td><td>122.964386</td><td>7.018228e-06</td><td>0.0</td><td>5275.273</td><td>4.2822972e-05</td><td>25.347729</td><td>57.869877</td><td>10044.082</td><td>149.89488</td><td>1806.3497</td><td>193.8055</td><td>8048.409</td><td>11266.696</td><td>37.8966</td><td>94.93562</td><td>2</td><td>False</td><td>2</td><td>False</td></tr>\n",
       "<tr><td>39628438587313503</td><td>sv3</td><td>dark</td><td>28151</td><td>28151</td><td>2.034874026533031</td><td>0.0005034853872552341</td><td>0</td><td>8004.65232068859</td><td>9.697094756164827e-05 .. 0.0</td><td>7838</td><td>QSO</td><td>--</td><td>4</td><td>162.76084442064166</td><td>0</td><td>192.87279974173254</td><td>28.058765289587107</td><td>0.0</td><td>0.0</td><td>2015.5</td><td>262148</td><td>1</td><td>TGT</td><td>0.661980766142358</td><td>1</td><td>9010</td><td>1928p280</td><td>486260</td><td>3423</td><td>PSF</td><td>0.010535352</td><td>1.2623484</td><td>1.530674</td><td>1.7497264</td><td>7.132623</td><td>11.54818</td><td>1422.0181</td><td>521.13434</td><td>208.83238</td><td>3.1153421</td><td>0.7451472</td><td>0.98256874</td><td>1.1914241</td><td>1.3619272</td><td>0.98628396</td><td>1.2005963</td><td>1.3789375</td><td>0</td><td>0.0</td><td>0.0</td><td>0.0</td><td>0.0</td><td>0</td><td>--</td><td>0.0</td><td>0.0</td><td>0.0</td><td>0.0</td><td>S</td><td>103400</td><td>4</td><td>0</td><td>0</td><td>0</td><td>0</td><td>0</td><td>0</td><td>0</td><td>0</td><td>0</td><td>0</td><td>0</td><td>0</td><td>0</td><td>262148</td><td>0</td><td>0</td><td>0</td><td>192.87279974173254</td><td>28.058765289587107</td><td>1</td><td>1033.5431</td><td>1</td><td>1</td><td>0.002</td><td>0.002</td><td>-0.001</td><td>0.001</td><td>192.87280790336052</td><td>0.0</td><td>28.0587692549433</td><td>0.0</td><td>0.789</td><td>316.99673</td><td>0.18109576</td><td>56.86232</td><td>154.54852</td><td>901.2779</td><td>345.06064</td><td>4.7909136</td><td>1.6933364</td><td>8875.323</td><td>24.754282</td><td>1599.0463</td><td>0.022909185</td><td>1567.0062</td><td>9987.043</td><td>6.251252</td><td>32.414864</td><td>3.773731e-05</td><td>118.77465</td><td>6.740256e-06</td><td>0.0</td><td>5106.8604</td><td>4.0898063e-05</td><td>24.507788</td><td>56.069145</td><td>9192.32</td><td>143.71002</td><td>1655.9086</td><td>154.57143</td><td>7575.1445</td><td>10332.104</td><td>35.549953</td><td>90.177345</td><td>1</td><td>True</td><td>1</td><td>True</td></tr>\n",
       "<tr><td>39628438587315309</td><td>sv3</td><td>dark</td><td>28151</td><td>28151</td><td>0.7345595602297358</td><td>1.8362228685822765e-05</td><td>0</td><td>7537.196232795715</td><td>50.39080785805784 .. 1.8141969193432412</td><td>7812</td><td>GALAXY</td><td>--</td><td>10</td><td>231.45719400048256</td><td>0</td><td>192.96255536545036</td><td>27.96169960814808</td><td>0.0</td><td>0.0</td><td>2015.5</td><td>655394</td><td>1</td><td>TGT</td><td>0.7434743198646103</td><td>1</td><td>9010</td><td>1928p280</td><td>486260</td><td>5229</td><td>REX</td><td>0.01087526</td><td>0.3718169</td><td>0.5554453</td><td>1.2721419</td><td>1.3308502</td><td>-2.1810644</td><td>1437.6027</td><td>483.93744</td><td>160.07535</td><td>4.060625</td><td>0.8599262</td><td>0.23120162</td><td>0.34538466</td><td>0.791038</td><td>0.23120162</td><td>0.34538466</td><td>0.791038</td><td>0</td><td>1.0</td><td>0.34113547</td><td>0.0</td><td>0.0</td><td>0</td><td>--</td><td>0.0</td><td>0.0</td><td>0.0</td><td>0.0</td><td>S</td><td>103000</td><td>9</td><td>0</td><td>0</td><td>0</td><td>0</td><td>0</td><td>0</td><td>0</td><td>0</td><td>0</td><td>0</td><td>0</td><td>0</td><td>0</td><td>655394</td><td>0</td><td>0</td><td>0</td><td>192.96255536545036</td><td>27.96169960814808</td><td>1</td><td>1033.5431</td><td>1</td><td>1</td><td>0.004</td><td>0.004</td><td>0.002</td><td>0.002</td><td>192.9625723251056</td><td>0.0</td><td>27.961691682470367</td><td>0.0</td><td>0.77816075</td><td>394.58755</td><td>0.23224962</td><td>70.079384</td><td>208.43237</td><td>1121.5143</td><td>418.2203</td><td>6.1679473</td><td>2.0971804</td><td>10237.346</td><td>28.306454</td><td>1833.547</td><td>0.027541313</td><td>1815.7234</td><td>11356.391</td><td>7.2007165</td><td>37.156948</td><td>4.1948046e-05</td><td>129.16806</td><td>7.468582e-06</td><td>0.0</td><td>5540.653</td><td>4.5266646e-05</td><td>26.673681</td><td>60.85678</td><td>10631.934</td><td>157.70676</td><td>1903.6263</td><td>208.45992</td><td>8477.891</td><td>11774.611</td><td>40.042343</td><td>100.11091</td><td>1</td><td>True</td><td>1</td><td>True</td></tr>\n",
       "<tr><td>-1193332</td><td>sv3</td><td>dark</td><td>28151</td><td>28151</td><td>-0.0019956912923479522</td><td>4.1311493573349107e-48</td><td>1570</td><td>8.999999999999996e+99</td><td>0.0 .. 0.0</td><td>0</td><td>STAR</td><td>CV</td><td>3</td><td>1.942668892225729e+84</td><td>515</td><td>193.1904043900987</td><td>28.110882424021103</td><td>0.0</td><td>0.0</td><td>0.0</td><td>0</td><td>0</td><td>--</td><td>0.0</td><td>0</td><td>0</td><td>--</td><td>0</td><td>0</td><td>--</td><td>0.0</td><td>0.0</td><td>0.0</td><td>0.0</td><td>0.0</td><td>0.0</td><td>0.0</td><td>0.0</td><td>0.0</td><td>0.0</td><td>0.0</td><td>0.0</td><td>0.0</td><td>0.0</td><td>0.0</td><td>0.0</td><td>0.0</td><td>0</td><td>0.0</td><td>0.0</td><td>0.0</td><td>0.0</td><td>0</td><td>--</td><td>0.0</td><td>0.0</td><td>0.0</td><td>0.0</td><td>--</td><td>0</td><td>0</td><td>0</td><td>0</td><td>0</td><td>0</td><td>0</td><td>0</td><td>0</td><td>0</td><td>0</td><td>0</td><td>0</td><td>0</td><td>0</td><td>0</td><td>0</td><td>0</td><td>0</td><td>193.1904043900987</td><td>28.110882424021103</td><td>0</td><td>0.0</td><td>0</td><td>0</td><td>0.945</td><td>0.945</td><td>-0.14</td><td>0.14</td><td>193.1943846370905</td><td>0.0</td><td>28.111487487305478</td><td>0.0</td><td>0.0</td><td>361.531</td><td>0.2771026</td><td>323.2895</td><td>97.612335</td><td>7046.8887</td><td>224.75014</td><td>3.74182</td><td>8.85674</td><td>27975.42</td><td>57.612293</td><td>23072.451</td><td>0.081764676</td><td>26392.102</td><td>13369.939</td><td>9.1179905</td><td>254.19821</td><td>6.308911e-05</td><td>190.32076</td><td>5.4463962e-05</td><td>0.0</td><td>43685.09</td><td>3.5023408e-05</td><td>20.898521</td><td>287.06207</td><td>28336.951</td><td>248.21014</td><td>23395.74</td><td>97.6941</td><td>77124.08</td><td>13594.689</td><td>33.75833</td><td>550.11707</td><td>1</td><td>True</td><td>1</td><td>True</td></tr>\n",
       "</table></div>"
      ],
      "text/plain": [
       "<Table length=2847435>\n",
       "      TARGETID      SURVEY PROGRAM ... SV_PRIMARY ZCAT_NSPEC ZCAT_PRIMARY\n",
       "       int64         str7    str6  ...    bool      int64        bool    \n",
       "------------------- ------ ------- ... ---------- ---------- ------------\n",
       " 616089230757593610    cmx   other ...      False          1         True\n",
       "  39628473202904408    cmx   other ...      False          1         True\n",
       "  39628473202902554    cmx   other ...      False          1         True\n",
       " 616089225506325615    cmx   other ...      False          1         True\n",
       "  39628473202903445    cmx   other ...      False          1         True\n",
       "  39628473202903539    cmx   other ...      False          1         True\n",
       "1152921504619435527    cmx   other ...      False          1         True\n",
       "  39628473202904338    cmx   other ...      False          1         True\n",
       "  39628473202902855    cmx   other ...      False          1         True\n",
       "  39628473202905021    cmx   other ...      False          1         True\n",
       "                ...    ...     ... ...        ...        ...          ...\n",
       "  39628438591508567    sv3    dark ...       True          1         True\n",
       "           -1122305    sv3    dark ...       True          1         True\n",
       "  39628438587315598    sv3    dark ...       True          1         True\n",
       " 616089190890733816    sv3    dark ...       True          1         True\n",
       "  39628438591507446    sv3    dark ...       True          1         True\n",
       "  39628438587314447    sv3    dark ...       True          1         True\n",
       "  39628438587314411    sv3    dark ...      False          2        False\n",
       "  39628438587313503    sv3    dark ...       True          1         True\n",
       "  39628438587315309    sv3    dark ...       True          1         True\n",
       "           -1193332    sv3    dark ...       True          1         True"
      ]
     },
     "execution_count": 22,
     "metadata": {},
     "output_type": "execute_result"
    }
   ],
   "source": [
    "Table.read(archivo_fits, hdu=1) "
   ]
  },
  {
   "cell_type": "code",
   "execution_count": 16,
   "id": "2622d188",
   "metadata": {},
   "outputs": [
    {
     "data": {
      "text/plain": [
       "array([616089230757593610,  39628473202904408,  39628473202902554, ...,\n",
       "        39628438587313503,  39628438587315309,           -1193332],\n",
       "      dtype=int64)"
      ]
     },
     "execution_count": 16,
     "metadata": {},
     "output_type": "execute_result"
    }
   ],
   "source": [
    "archivo_fits[1].data['TARGETID'] #Tenemos el np.ndarray de los TARGETID"
   ]
  },
  {
   "cell_type": "markdown",
   "id": "49090bce",
   "metadata": {},
   "source": [
    "Podemos obtener la clasificacion espectral de los espectros que utilizamos en la 'Descripción general de catalogos', utilizando sus respectivos 'TARGETID' y buscandolos en el 'zall-pix-fuji.fits'. Asi:"
   ]
  },
  {
   "cell_type": "code",
   "execution_count": 18,
   "id": "92e5057b",
   "metadata": {},
   "outputs": [
    {
     "name": "stdout",
     "output_type": "stream",
     "text": [
      "listo\n"
     ]
    }
   ],
   "source": [
    "target=[2305843019716235906,616093919289017142,2305843019716232322,616093919289017218,2305843019716236594,2305843019716235023\n",
    "       ,-3745505, 616093919289017038,2305843019716233633, 39633166985596095, 39633166985594891]\n",
    "\n",
    "clasificacion={}\n",
    "\n",
    "for i in range(len(archivo_fits[1].data['TARGETID'])):\n",
    "    if archivo_fits[1].data['TARGETID'][i] in target:\n",
    "        clasificacion[archivo_fits[1].data['TARGETID'][i]]= archivo_fits[1].data['SPECTYPE'][i]\n",
    "    if len(clasificacion)==len(target):\n",
    "        break    \n",
    "print(\"listo\")"
   ]
  },
  {
   "cell_type": "code",
   "execution_count": 42,
   "id": "436d8409",
   "metadata": {},
   "outputs": [
    {
     "data": {
      "text/plain": [
       "{2305843019716233633: 'STAR',\n",
       " 616093919289017038: 'GALAXY',\n",
       " -3745505: 'STAR',\n",
       " 2305843019716235906: 'STAR',\n",
       " 2305843019716236594: 'STAR',\n",
       " 616093919289017218: 'GALAXY',\n",
       " 2305843019716232322: 'STAR',\n",
       " 616093919289017142: 'GALAXY',\n",
       " 2305843019716235023: 'STAR',\n",
       " 39633166985594891: 'GALAXY',\n",
       " 39633166985596095: 'GALAXY'}"
      ]
     },
     "execution_count": 42,
     "metadata": {},
     "output_type": "execute_result"
    }
   ],
   "source": [
    "clasificacion"
   ]
  },
  {
   "cell_type": "markdown",
   "id": "71b444fd",
   "metadata": {},
   "source": [
    "# Ahora Contaremos por cada spectype, unicamente para SURVEY=sv3 y PROGRAM=dark, la cantidad de elementos"
   ]
  },
  {
   "cell_type": "code",
   "execution_count": 99,
   "id": "f409820d",
   "metadata": {},
   "outputs": [],
   "source": [
    "new_Table=Table.read(archivo_fits, hdu=1)[['TARGETID','SURVEY','PROGRAM','SPECTYPE']]#unicamente toma estas columnas de la original"
   ]
  },
  {
   "cell_type": "code",
   "execution_count": 100,
   "id": "482561fb",
   "metadata": {},
   "outputs": [
    {
     "data": {
      "text/html": [
       "<div><i>Table length=2847435</i>\n",
       "<table id=\"table2109235524560\" class=\"table-striped table-bordered table-condensed\">\n",
       "<thead><tr><th>TARGETID</th><th>SURVEY</th><th>PROGRAM</th><th>SPECTYPE</th></tr></thead>\n",
       "<thead><tr><th>int64</th><th>str7</th><th>str6</th><th>str6</th></tr></thead>\n",
       "<tr><td>616089230757593610</td><td>cmx</td><td>other</td><td>GALAXY</td></tr>\n",
       "<tr><td>39628473202904408</td><td>cmx</td><td>other</td><td>GALAXY</td></tr>\n",
       "<tr><td>39628473202902554</td><td>cmx</td><td>other</td><td>GALAXY</td></tr>\n",
       "<tr><td>616089225506325615</td><td>cmx</td><td>other</td><td>GALAXY</td></tr>\n",
       "<tr><td>39628473202904338</td><td>cmx</td><td>other</td><td>GALAXY</td></tr>\n",
       "<tr><td>39628473202902855</td><td>cmx</td><td>other</td><td>GALAXY</td></tr>\n",
       "<tr><td>39628473202901945</td><td>cmx</td><td>other</td><td>GALAXY</td></tr>\n",
       "<tr><td>39628478449979912</td><td>cmx</td><td>other</td><td>GALAXY</td></tr>\n",
       "<tr><td>39628473202901028</td><td>cmx</td><td>other</td><td>GALAXY</td></tr>\n",
       "<tr><td>39628478449979314</td><td>cmx</td><td>other</td><td>GALAXY</td></tr>\n",
       "<tr><td>...</td><td>...</td><td>...</td><td>...</td></tr>\n",
       "<tr><td>-1122457</td><td>sv3</td><td>dark</td><td>STAR</td></tr>\n",
       "<tr><td>-1122523</td><td>sv3</td><td>dark</td><td>STAR</td></tr>\n",
       "<tr><td>-1132435</td><td>sv3</td><td>dark</td><td>STAR</td></tr>\n",
       "<tr><td>-1122432</td><td>sv3</td><td>dark</td><td>STAR</td></tr>\n",
       "<tr><td>39628433243768263</td><td>sv3</td><td>dark</td><td>STAR</td></tr>\n",
       "<tr><td>-1122408</td><td>sv3</td><td>dark</td><td>STAR</td></tr>\n",
       "<tr><td>-1122409</td><td>sv3</td><td>dark</td><td>STAR</td></tr>\n",
       "<tr><td>-1122305</td><td>sv3</td><td>dark</td><td>STAR</td></tr>\n",
       "<tr><td>616089190890733816</td><td>sv3</td><td>dark</td><td>STAR</td></tr>\n",
       "<tr><td>-1193332</td><td>sv3</td><td>dark</td><td>STAR</td></tr>\n",
       "</table></div>"
      ],
      "text/plain": [
       "<Table length=2847435>\n",
       "     TARGETID      SURVEY PROGRAM SPECTYPE\n",
       "      int64         str7    str6    str6  \n",
       "------------------ ------ ------- --------\n",
       "616089230757593610    cmx   other   GALAXY\n",
       " 39628473202904408    cmx   other   GALAXY\n",
       " 39628473202902554    cmx   other   GALAXY\n",
       "616089225506325615    cmx   other   GALAXY\n",
       " 39628473202904338    cmx   other   GALAXY\n",
       " 39628473202902855    cmx   other   GALAXY\n",
       " 39628473202901945    cmx   other   GALAXY\n",
       " 39628478449979912    cmx   other   GALAXY\n",
       " 39628473202901028    cmx   other   GALAXY\n",
       " 39628478449979314    cmx   other   GALAXY\n",
       "               ...    ...     ...      ...\n",
       "          -1122457    sv3    dark     STAR\n",
       "          -1122523    sv3    dark     STAR\n",
       "          -1132435    sv3    dark     STAR\n",
       "          -1122432    sv3    dark     STAR\n",
       " 39628433243768263    sv3    dark     STAR\n",
       "          -1122408    sv3    dark     STAR\n",
       "          -1122409    sv3    dark     STAR\n",
       "          -1122305    sv3    dark     STAR\n",
       "616089190890733816    sv3    dark     STAR\n",
       "          -1193332    sv3    dark     STAR"
      ]
     },
     "execution_count": 100,
     "metadata": {},
     "output_type": "execute_result"
    }
   ],
   "source": [
    "new_Table.group_by(['SURVEY','SPECTYPE','PROGRAM']) #Organiza por grupos"
   ]
  },
  {
   "cell_type": "code",
   "execution_count": 101,
   "id": "a9bcef06",
   "metadata": {},
   "outputs": [
    {
     "data": {
      "text/html": [
       "<div><i>Table length=15</i>\n",
       "<table id=\"table2109233553744\" class=\"table-striped table-bordered table-condensed\">\n",
       "<thead><tr><th>SURVEY</th><th>SPECTYPE</th></tr></thead>\n",
       "<thead><tr><th>str7</th><th>str6</th></tr></thead>\n",
       "<tr><td>cmx</td><td>GALAXY</td></tr>\n",
       "<tr><td>cmx</td><td>QSO</td></tr>\n",
       "<tr><td>cmx</td><td>STAR</td></tr>\n",
       "<tr><td>special</td><td>GALAXY</td></tr>\n",
       "<tr><td>special</td><td>QSO</td></tr>\n",
       "<tr><td>special</td><td>STAR</td></tr>\n",
       "<tr><td>sv1</td><td>GALAXY</td></tr>\n",
       "<tr><td>sv1</td><td>QSO</td></tr>\n",
       "<tr><td>sv1</td><td>STAR</td></tr>\n",
       "<tr><td>sv2</td><td>GALAXY</td></tr>\n",
       "<tr><td>sv2</td><td>QSO</td></tr>\n",
       "<tr><td>sv2</td><td>STAR</td></tr>\n",
       "<tr><td>sv3</td><td>GALAXY</td></tr>\n",
       "<tr><td>sv3</td><td>QSO</td></tr>\n",
       "<tr><td>sv3</td><td>STAR</td></tr>\n",
       "</table></div>"
      ],
      "text/plain": [
       "<Table length=15>\n",
       " SURVEY SPECTYPE\n",
       "  str7    str6  \n",
       "------- --------\n",
       "    cmx   GALAXY\n",
       "    cmx      QSO\n",
       "    cmx     STAR\n",
       "special   GALAXY\n",
       "special      QSO\n",
       "special     STAR\n",
       "    sv1   GALAXY\n",
       "    sv1      QSO\n",
       "    sv1     STAR\n",
       "    sv2   GALAXY\n",
       "    sv2      QSO\n",
       "    sv2     STAR\n",
       "    sv3   GALAXY\n",
       "    sv3      QSO\n",
       "    sv3     STAR"
      ]
     },
     "execution_count": 101,
     "metadata": {},
     "output_type": "execute_result"
    }
   ],
   "source": [
    "new_Table.group_by(['SURVEY','SPECTYPE']).groups.keys #nos dice cuantos grupos hay por SURVEY+SPECTYPE"
   ]
  },
  {
   "cell_type": "markdown",
   "id": "c3db1316",
   "metadata": {},
   "source": [
    "Creamos mascaras para seleccionar unicamente los valores deseados por cada parametro (SURVEY,PROGRAM,...)"
   ]
  },
  {
   "cell_type": "code",
   "execution_count": 102,
   "id": "3bca8754",
   "metadata": {},
   "outputs": [],
   "source": [
    "mask=new_Table.group_by('SURVEY').groups.keys['SURVEY']=='sv3' #mascara para clasificación del SURVEY\n",
    "just_sv3=new_Table.group_by('SURVEY').groups[mask] #aqui creamos una nueva tabla unicamente con el SURVEY==sv3\n",
    "\n",
    "mask1=just_sv3.group_by('PROGRAM').groups.keys['PROGRAM']=='dark' #mascara para clasificación del PROGRAM\n",
    "just_sv3_dark=just_sv3.group_by('PROGRAM').groups[mask1] #aqui creamos una nueva tabla unicamente con el SURVEY==sv3 y PROGRAM=='dark'"
   ]
  },
  {
   "cell_type": "code",
   "execution_count": 103,
   "id": "0559d6c8",
   "metadata": {},
   "outputs": [
    {
     "data": {
      "text/html": [
       "<div><i>Table length=862947</i>\n",
       "<table id=\"table2109680298448\" class=\"table-striped table-bordered table-condensed\">\n",
       "<thead><tr><th>TARGETID</th><th>SURVEY</th><th>PROGRAM</th><th>SPECTYPE</th></tr></thead>\n",
       "<thead><tr><th>int64</th><th>str7</th><th>str6</th><th>str6</th></tr></thead>\n",
       "<tr><td>-2000468</td><td>sv3</td><td>dark</td><td>GALAXY</td></tr>\n",
       "<tr><td>39632936152072720</td><td>sv3</td><td>dark</td><td>GALAXY</td></tr>\n",
       "<tr><td>39632936152072816</td><td>sv3</td><td>dark</td><td>GALAXY</td></tr>\n",
       "<tr><td>39632936147881012</td><td>sv3</td><td>dark</td><td>GALAXY</td></tr>\n",
       "<tr><td>-2000502</td><td>sv3</td><td>dark</td><td>GALAXY</td></tr>\n",
       "<tr><td>39632936152072857</td><td>sv3</td><td>dark</td><td>GALAXY</td></tr>\n",
       "<tr><td>39632936147880205</td><td>sv3</td><td>dark</td><td>GALAXY</td></tr>\n",
       "<tr><td>39632936147881180</td><td>sv3</td><td>dark</td><td>GALAXY</td></tr>\n",
       "<tr><td>39632936152073654</td><td>sv3</td><td>dark</td><td>QSO</td></tr>\n",
       "<tr><td>39632936147881583</td><td>sv3</td><td>dark</td><td>GALAXY</td></tr>\n",
       "<tr><td>...</td><td>...</td><td>...</td><td>...</td></tr>\n",
       "<tr><td>39628438591508567</td><td>sv3</td><td>dark</td><td>GALAXY</td></tr>\n",
       "<tr><td>-1122305</td><td>sv3</td><td>dark</td><td>STAR</td></tr>\n",
       "<tr><td>39628438587315598</td><td>sv3</td><td>dark</td><td>GALAXY</td></tr>\n",
       "<tr><td>616089190890733816</td><td>sv3</td><td>dark</td><td>STAR</td></tr>\n",
       "<tr><td>39628438591507446</td><td>sv3</td><td>dark</td><td>GALAXY</td></tr>\n",
       "<tr><td>39628438587314447</td><td>sv3</td><td>dark</td><td>QSO</td></tr>\n",
       "<tr><td>39628438587314411</td><td>sv3</td><td>dark</td><td>QSO</td></tr>\n",
       "<tr><td>39628438587313503</td><td>sv3</td><td>dark</td><td>QSO</td></tr>\n",
       "<tr><td>39628438587315309</td><td>sv3</td><td>dark</td><td>GALAXY</td></tr>\n",
       "<tr><td>-1193332</td><td>sv3</td><td>dark</td><td>STAR</td></tr>\n",
       "</table></div>"
      ],
      "text/plain": [
       "<Table length=862947>\n",
       "     TARGETID      SURVEY PROGRAM SPECTYPE\n",
       "      int64         str7    str6    str6  \n",
       "------------------ ------ ------- --------\n",
       "          -2000468    sv3    dark   GALAXY\n",
       " 39632936152072720    sv3    dark   GALAXY\n",
       " 39632936152072816    sv3    dark   GALAXY\n",
       " 39632936147881012    sv3    dark   GALAXY\n",
       "          -2000502    sv3    dark   GALAXY\n",
       " 39632936152072857    sv3    dark   GALAXY\n",
       " 39632936147880205    sv3    dark   GALAXY\n",
       " 39632936147881180    sv3    dark   GALAXY\n",
       " 39632936152073654    sv3    dark      QSO\n",
       " 39632936147881583    sv3    dark   GALAXY\n",
       "               ...    ...     ...      ...\n",
       " 39628438591508567    sv3    dark   GALAXY\n",
       "          -1122305    sv3    dark     STAR\n",
       " 39628438587315598    sv3    dark   GALAXY\n",
       "616089190890733816    sv3    dark     STAR\n",
       " 39628438591507446    sv3    dark   GALAXY\n",
       " 39628438587314447    sv3    dark      QSO\n",
       " 39628438587314411    sv3    dark      QSO\n",
       " 39628438587313503    sv3    dark      QSO\n",
       " 39628438587315309    sv3    dark   GALAXY\n",
       "          -1193332    sv3    dark     STAR"
      ]
     },
     "execution_count": 103,
     "metadata": {},
     "output_type": "execute_result"
    }
   ],
   "source": [
    "just_sv3_dark"
   ]
  },
  {
   "cell_type": "code",
   "execution_count": 104,
   "id": "e314a09e",
   "metadata": {},
   "outputs": [
    {
     "data": {
      "text/plain": [
       "862947"
      ]
     },
     "execution_count": 104,
     "metadata": {},
     "output_type": "execute_result"
    }
   ],
   "source": [
    "len(just_sv3_dark)"
   ]
  },
  {
   "cell_type": "markdown",
   "id": "f623215f",
   "metadata": {},
   "source": [
    "Ahora, verificamos que no se repiten TARGETS para que al contar cada elemento por tipo espectral no contemos más de uan vez el mismo objeto."
   ]
  },
  {
   "cell_type": "code",
   "execution_count": 105,
   "id": "6408da96",
   "metadata": {},
   "outputs": [
    {
     "data": {
      "text/html": [
       "<div><i>Table length=862947</i>\n",
       "<table id=\"table2109682009424\" class=\"table-striped table-bordered table-condensed\">\n",
       "<thead><tr><th>TARGETID</th></tr></thead>\n",
       "<thead><tr><th>int64</th></tr></thead>\n",
       "<tr><td>-5819526</td></tr>\n",
       "<tr><td>-5819518</td></tr>\n",
       "<tr><td>-5819510</td></tr>\n",
       "<tr><td>-5819492</td></tr>\n",
       "<tr><td>-5819491</td></tr>\n",
       "<tr><td>-5819472</td></tr>\n",
       "<tr><td>-5819458</td></tr>\n",
       "<tr><td>-5819454</td></tr>\n",
       "<tr><td>-5819436</td></tr>\n",
       "<tr><td>-5819431</td></tr>\n",
       "<tr><td>...</td></tr>\n",
       "<tr><td>616094220515541567</td></tr>\n",
       "<tr><td>616094220515541579</td></tr>\n",
       "<tr><td>616094220515541580</td></tr>\n",
       "<tr><td>616094220515541610</td></tr>\n",
       "<tr><td>616094220515541672</td></tr>\n",
       "<tr><td>616094220515541854</td></tr>\n",
       "<tr><td>616094220519735351</td></tr>\n",
       "<tr><td>616094220519735611</td></tr>\n",
       "<tr><td>616094220523929606</td></tr>\n",
       "<tr><td>616094222814020204</td></tr>\n",
       "</table></div>"
      ],
      "text/plain": [
       "<Table length=862947>\n",
       "     TARGETID     \n",
       "      int64       \n",
       "------------------\n",
       "          -5819526\n",
       "          -5819518\n",
       "          -5819510\n",
       "          -5819492\n",
       "          -5819491\n",
       "          -5819472\n",
       "          -5819458\n",
       "          -5819454\n",
       "          -5819436\n",
       "          -5819431\n",
       "               ...\n",
       "616094220515541567\n",
       "616094220515541579\n",
       "616094220515541580\n",
       "616094220515541610\n",
       "616094220515541672\n",
       "616094220515541854\n",
       "616094220519735351\n",
       "616094220519735611\n",
       "616094220523929606\n",
       "616094222814020204"
      ]
     },
     "execution_count": 105,
     "metadata": {},
     "output_type": "execute_result"
    }
   ],
   "source": [
    "just_sv3_dark.group_by(['TARGETID']).groups.keys"
   ]
  },
  {
   "cell_type": "code",
   "execution_count": 106,
   "id": "9455e939",
   "metadata": {},
   "outputs": [
    {
     "data": {
      "text/plain": [
       "862947"
      ]
     },
     "execution_count": 106,
     "metadata": {},
     "output_type": "execute_result"
    }
   ],
   "source": [
    "len(just_sv3_dark.group_by(['TARGETID']).groups.keys)"
   ]
  },
  {
   "cell_type": "markdown",
   "id": "6d6e1b4c",
   "metadata": {},
   "source": [
    "# contamos para SPECTYPE utilizando una mascara adicional por cada uno\n"
   ]
  },
  {
   "cell_type": "code",
   "execution_count": 108,
   "id": "2243ad71",
   "metadata": {},
   "outputs": [],
   "source": [
    "mask2=just_sv3_dark.group_by('SPECTYPE').groups.keys['SPECTYPE']=='GALAXY' #mascara para clasificación de Galaxias\n",
    "just_sv3_dark_GALAXY=just_sv3_dark.group_by('SPECTYPE').groups[mask2] #aqui creamos una nueva tabla unicamente con el sv3, dark, GALAXY\n",
    "\n",
    "mask3=just_sv3_dark.group_by('SPECTYPE').groups.keys['SPECTYPE']=='QSO' #mascara para clasificación de QSO's\n",
    "just_sv3_dark_QSO=just_sv3_dark.group_by('SPECTYPE').groups[mask3] #aqui creamos una nueva tabla unicamente con el sv3, dark, QSO\n",
    "\n",
    "mask4=just_sv3_dark.group_by('SPECTYPE').groups.keys['SPECTYPE']=='STAR' #mascara para clasificación de estrellas\n",
    "just_sv3_dark_STAR=just_sv3_dark.group_by('SPECTYPE').groups[mask4] #aqui creamos una nueva tabla unicamente con el sv3, dark, STAR\n",
    "\n",
    "\n",
    "Number_GALAXY=len(just_sv3_dark_GALAXY)\n",
    "Number_QSO=len(just_sv3_dark_QSO)\n",
    "Number_STAR=len(just_sv3_dark_STAR)"
   ]
  },
  {
   "cell_type": "code",
   "execution_count": 116,
   "id": "5f28f596",
   "metadata": {},
   "outputs": [
    {
     "name": "stdout",
     "output_type": "stream",
     "text": [
      "Number_GALAXY: 650363\n",
      "Number_QSO: 44996\n",
      "Number_STAR: 167588\n",
      "total: 862947\n"
     ]
    }
   ],
   "source": [
    "print('Number_GALAXY: '+str(Number_GALAXY))\n",
    "print('Number_QSO: '+str(Number_QSO))\n",
    "print('Number_STAR: '+str(Number_STAR))\n",
    "print('total: '+str(Number_GALAXY+Number_QSO+Number_STAR))"
   ]
  },
  {
   "cell_type": "code",
   "execution_count": 137,
   "id": "b4997233",
   "metadata": {},
   "outputs": [
    {
     "data": {
      "image/png": "[encoded data removed]",
      "text/plain": [
       "<Figure size 640x480 with 1 Axes>"
      ]
     },
     "metadata": {},
     "output_type": "display_data"
    }
   ],
   "source": [
    "x0,x1,x2=['Number_GALAXY'],['Number_QSO'],['Number_STAR']\n",
    "y0,y1,y2=[Number_GALAXY],[Number_QSO],[Number_STAR]\n",
    "\n",
    "fig, ax = plt.subplots()\n",
    "ax.set(title=r'Numero de objetos VS SPECTYPE para sv3, dark',\n",
    "    ylabel='Numero de objetos', xlabel='SPECTYPE')\n",
    "plt.bar(x0,y0, color='r', label='GALAXY= '+str(Number_GALAXY))\n",
    "plt.bar(x1,y1, color='b', label='QSO= '+str(Number_QSO))\n",
    "plt.bar(x2,y2, color='k', label='STAR= '+str(Number_STAR))\n",
    "plt.legend(loc = \"upper right\")\n",
    "plt.show()"
   ]
  },
  {
   "cell_type": "code",
   "execution_count": null,
   "id": "486d61e2",
   "metadata": {},
   "outputs": [],
   "source": []
  }
 ],
 "metadata": {
  "kernelspec": {
   "display_name": "Python 3 (ipykernel)",
   "language": "python",
   "name": "python3"
  },
  "language_info": {
   "codemirror_mode": {
    "name": "ipython",
    "version": 3
   },
   "file_extension": ".py",
   "mimetype": "text/x-python",
   "name": "python",
   "nbconvert_exporter": "python",
   "pygments_lexer": "ipython3",
   "version": "3.11.4"
  }
 },
 "nbformat": 4,
 "nbformat_minor": 5
}
